{
 "cells": [
  {
   "cell_type": "code",
   "execution_count": 1,
   "metadata": {},
   "outputs": [],
   "source": [
    "import pandas as pd"
   ]
  },
  {
   "cell_type": "code",
   "execution_count": 15,
   "metadata": {},
   "outputs": [],
   "source": [
    "def download_data(year) -> pd.DataFrame:\n",
    "    url = f\"https://marketnews.usda.gov/mnp/py-report?&repDate=01%2F01%2F{year}&regionsDesc=&endDate=12%2F31%2F{year}&repMonth=1&run=Run&_producttypefrom=1&endYear=2023&producttypefrom=&repYear=2020&categoryDesc=Egg&frequency=Daily&datatype=None+Selected&previouscls=Breaking+Stock&_producttype=1&report=NW_PY041&category=Egg&subcategory=Breaking+Stock&endMonth=1&commodityDesc=Breaking+Stock&runReport=true&format=excel\"\n",
    "    return pd.read_html(url)[0]"
   ]
  },
  {
   "cell_type": "code",
   "execution_count": 16,
   "metadata": {},
   "outputs": [],
   "source": [
    "def get_data(years: list) -> pd.DataFrame:\n",
    "    dfs = [download_data(year) for year in years]\n",
    "    return pd.concat(dfs)"
   ]
  },
  {
   "cell_type": "code",
   "execution_count": 32,
   "metadata": {},
   "outputs": [],
   "source": [
    "years = [2018, 2019, 2020, 2021, 2022, 2023]\n",
    "df = get_data(years)"
   ]
  },
  {
   "cell_type": "code",
   "execution_count": 33,
   "metadata": {},
   "outputs": [
    {
     "data": {
      "text/html": [
       "<div>\n",
       "<style scoped>\n",
       "    .dataframe tbody tr th:only-of-type {\n",
       "        vertical-align: middle;\n",
       "    }\n",
       "\n",
       "    .dataframe tbody tr th {\n",
       "        vertical-align: top;\n",
       "    }\n",
       "\n",
       "    .dataframe thead th {\n",
       "        text-align: right;\n",
       "    }\n",
       "</style>\n",
       "<table border=\"1\" class=\"dataframe\">\n",
       "  <thead>\n",
       "    <tr style=\"text-align: right;\">\n",
       "      <th></th>\n",
       "      <th>Date</th>\n",
       "      <th>Region</th>\n",
       "      <th>Egg Class</th>\n",
       "      <th>Market Name</th>\n",
       "      <th>Delivery Name</th>\n",
       "      <th>Price Unit</th>\n",
       "      <th>Low Price</th>\n",
       "      <th>High Price</th>\n",
       "      <th>Mostly Low</th>\n",
       "      <th>Mostly High</th>\n",
       "    </tr>\n",
       "  </thead>\n",
       "  <tbody>\n",
       "    <tr>\n",
       "      <th>0</th>\n",
       "      <td>01/02/2018</td>\n",
       "      <td>CENTRAL STATES</td>\n",
       "      <td>CHECKS</td>\n",
       "      <td>CENTRAL STATES</td>\n",
       "      <td>DELIVERED TO BREAKERS</td>\n",
       "      <td>CENTS PER DOZEN</td>\n",
       "      <td>60.0</td>\n",
       "      <td>68</td>\n",
       "      <td>63.0</td>\n",
       "      <td>68.0</td>\n",
       "    </tr>\n",
       "    <tr>\n",
       "      <th>1</th>\n",
       "      <td>01/02/2018</td>\n",
       "      <td>CENTRAL STATES</td>\n",
       "      <td>BREAKING STOCK</td>\n",
       "      <td>CENTRAL STATES</td>\n",
       "      <td>DELIVERED TO BREAKERS</td>\n",
       "      <td>CENTS PER DOZEN</td>\n",
       "      <td>77.0</td>\n",
       "      <td>78</td>\n",
       "      <td>NaN</td>\n",
       "      <td>NaN</td>\n",
       "    </tr>\n",
       "    <tr>\n",
       "      <th>2</th>\n",
       "      <td>01/03/2018</td>\n",
       "      <td>CENTRAL STATES</td>\n",
       "      <td>BREAKING STOCK</td>\n",
       "      <td>CENTRAL STATES</td>\n",
       "      <td>DELIVERED TO BREAKERS</td>\n",
       "      <td>CENTS PER DOZEN</td>\n",
       "      <td>75.0</td>\n",
       "      <td>76</td>\n",
       "      <td>NaN</td>\n",
       "      <td>NaN</td>\n",
       "    </tr>\n",
       "    <tr>\n",
       "      <th>3</th>\n",
       "      <td>01/03/2018</td>\n",
       "      <td>CENTRAL STATES</td>\n",
       "      <td>CHECKS</td>\n",
       "      <td>CENTRAL STATES</td>\n",
       "      <td>DELIVERED TO BREAKERS</td>\n",
       "      <td>CENTS PER DOZEN</td>\n",
       "      <td>58.0</td>\n",
       "      <td>66</td>\n",
       "      <td>61.0</td>\n",
       "      <td>66.0</td>\n",
       "    </tr>\n",
       "    <tr>\n",
       "      <th>4</th>\n",
       "      <td>01/04/2018</td>\n",
       "      <td>CENTRAL STATES</td>\n",
       "      <td>BREAKING STOCK</td>\n",
       "      <td>CENTRAL STATES</td>\n",
       "      <td>DELIVERED TO BREAKERS</td>\n",
       "      <td>CENTS PER DOZEN</td>\n",
       "      <td>72.0</td>\n",
       "      <td>73</td>\n",
       "      <td>NaN</td>\n",
       "      <td>NaN</td>\n",
       "    </tr>\n",
       "  </tbody>\n",
       "</table>\n",
       "</div>"
      ],
      "text/plain": [
       "         Date          Region       Egg Class     Market Name  \\\n",
       "0  01/02/2018  CENTRAL STATES          CHECKS  CENTRAL STATES   \n",
       "1  01/02/2018  CENTRAL STATES  BREAKING STOCK  CENTRAL STATES   \n",
       "2  01/03/2018  CENTRAL STATES  BREAKING STOCK  CENTRAL STATES   \n",
       "3  01/03/2018  CENTRAL STATES          CHECKS  CENTRAL STATES   \n",
       "4  01/04/2018  CENTRAL STATES  BREAKING STOCK  CENTRAL STATES   \n",
       "\n",
       "           Delivery Name       Price Unit  Low Price  High Price  Mostly Low  \\\n",
       "0  DELIVERED TO BREAKERS  CENTS PER DOZEN       60.0          68        63.0   \n",
       "1  DELIVERED TO BREAKERS  CENTS PER DOZEN       77.0          78         NaN   \n",
       "2  DELIVERED TO BREAKERS  CENTS PER DOZEN       75.0          76         NaN   \n",
       "3  DELIVERED TO BREAKERS  CENTS PER DOZEN       58.0          66        61.0   \n",
       "4  DELIVERED TO BREAKERS  CENTS PER DOZEN       72.0          73         NaN   \n",
       "\n",
       "   Mostly High  \n",
       "0         68.0  \n",
       "1          NaN  \n",
       "2          NaN  \n",
       "3         66.0  \n",
       "4          NaN  "
      ]
     },
     "execution_count": 33,
     "metadata": {},
     "output_type": "execute_result"
    }
   ],
   "source": [
    "df.head()"
   ]
  },
  {
   "cell_type": "code",
   "execution_count": 34,
   "metadata": {},
   "outputs": [],
   "source": [
    "df[\"Date\"] = pd.to_datetime(df[\"Date\"])\n",
    "df.set_index(\"Date\", inplace=True)"
   ]
  },
  {
   "cell_type": "code",
   "execution_count": 35,
   "metadata": {},
   "outputs": [
    {
     "data": {
      "text/html": [
       "<div>\n",
       "<style scoped>\n",
       "    .dataframe tbody tr th:only-of-type {\n",
       "        vertical-align: middle;\n",
       "    }\n",
       "\n",
       "    .dataframe tbody tr th {\n",
       "        vertical-align: top;\n",
       "    }\n",
       "\n",
       "    .dataframe thead th {\n",
       "        text-align: right;\n",
       "    }\n",
       "</style>\n",
       "<table border=\"1\" class=\"dataframe\">\n",
       "  <thead>\n",
       "    <tr style=\"text-align: right;\">\n",
       "      <th></th>\n",
       "      <th>Region</th>\n",
       "      <th>Egg Class</th>\n",
       "      <th>Market Name</th>\n",
       "      <th>Delivery Name</th>\n",
       "      <th>Price Unit</th>\n",
       "      <th>Low Price</th>\n",
       "      <th>High Price</th>\n",
       "      <th>Mostly Low</th>\n",
       "      <th>Mostly High</th>\n",
       "    </tr>\n",
       "    <tr>\n",
       "      <th>Date</th>\n",
       "      <th></th>\n",
       "      <th></th>\n",
       "      <th></th>\n",
       "      <th></th>\n",
       "      <th></th>\n",
       "      <th></th>\n",
       "      <th></th>\n",
       "      <th></th>\n",
       "      <th></th>\n",
       "    </tr>\n",
       "  </thead>\n",
       "  <tbody>\n",
       "    <tr>\n",
       "      <th>2018-01-02</th>\n",
       "      <td>CENTRAL STATES</td>\n",
       "      <td>CHECKS</td>\n",
       "      <td>CENTRAL STATES</td>\n",
       "      <td>DELIVERED TO BREAKERS</td>\n",
       "      <td>CENTS PER DOZEN</td>\n",
       "      <td>60.0</td>\n",
       "      <td>68</td>\n",
       "      <td>63.0</td>\n",
       "      <td>68.0</td>\n",
       "    </tr>\n",
       "    <tr>\n",
       "      <th>2018-01-02</th>\n",
       "      <td>CENTRAL STATES</td>\n",
       "      <td>BREAKING STOCK</td>\n",
       "      <td>CENTRAL STATES</td>\n",
       "      <td>DELIVERED TO BREAKERS</td>\n",
       "      <td>CENTS PER DOZEN</td>\n",
       "      <td>77.0</td>\n",
       "      <td>78</td>\n",
       "      <td>NaN</td>\n",
       "      <td>NaN</td>\n",
       "    </tr>\n",
       "    <tr>\n",
       "      <th>2018-01-03</th>\n",
       "      <td>CENTRAL STATES</td>\n",
       "      <td>BREAKING STOCK</td>\n",
       "      <td>CENTRAL STATES</td>\n",
       "      <td>DELIVERED TO BREAKERS</td>\n",
       "      <td>CENTS PER DOZEN</td>\n",
       "      <td>75.0</td>\n",
       "      <td>76</td>\n",
       "      <td>NaN</td>\n",
       "      <td>NaN</td>\n",
       "    </tr>\n",
       "    <tr>\n",
       "      <th>2018-01-03</th>\n",
       "      <td>CENTRAL STATES</td>\n",
       "      <td>CHECKS</td>\n",
       "      <td>CENTRAL STATES</td>\n",
       "      <td>DELIVERED TO BREAKERS</td>\n",
       "      <td>CENTS PER DOZEN</td>\n",
       "      <td>58.0</td>\n",
       "      <td>66</td>\n",
       "      <td>61.0</td>\n",
       "      <td>66.0</td>\n",
       "    </tr>\n",
       "    <tr>\n",
       "      <th>2018-01-04</th>\n",
       "      <td>CENTRAL STATES</td>\n",
       "      <td>BREAKING STOCK</td>\n",
       "      <td>CENTRAL STATES</td>\n",
       "      <td>DELIVERED TO BREAKERS</td>\n",
       "      <td>CENTS PER DOZEN</td>\n",
       "      <td>72.0</td>\n",
       "      <td>73</td>\n",
       "      <td>NaN</td>\n",
       "      <td>NaN</td>\n",
       "    </tr>\n",
       "  </tbody>\n",
       "</table>\n",
       "</div>"
      ],
      "text/plain": [
       "                    Region       Egg Class     Market Name  \\\n",
       "Date                                                         \n",
       "2018-01-02  CENTRAL STATES          CHECKS  CENTRAL STATES   \n",
       "2018-01-02  CENTRAL STATES  BREAKING STOCK  CENTRAL STATES   \n",
       "2018-01-03  CENTRAL STATES  BREAKING STOCK  CENTRAL STATES   \n",
       "2018-01-03  CENTRAL STATES          CHECKS  CENTRAL STATES   \n",
       "2018-01-04  CENTRAL STATES  BREAKING STOCK  CENTRAL STATES   \n",
       "\n",
       "                    Delivery Name       Price Unit  Low Price  High Price  \\\n",
       "Date                                                                        \n",
       "2018-01-02  DELIVERED TO BREAKERS  CENTS PER DOZEN       60.0          68   \n",
       "2018-01-02  DELIVERED TO BREAKERS  CENTS PER DOZEN       77.0          78   \n",
       "2018-01-03  DELIVERED TO BREAKERS  CENTS PER DOZEN       75.0          76   \n",
       "2018-01-03  DELIVERED TO BREAKERS  CENTS PER DOZEN       58.0          66   \n",
       "2018-01-04  DELIVERED TO BREAKERS  CENTS PER DOZEN       72.0          73   \n",
       "\n",
       "            Mostly Low  Mostly High  \n",
       "Date                                 \n",
       "2018-01-02        63.0         68.0  \n",
       "2018-01-02         NaN          NaN  \n",
       "2018-01-03         NaN          NaN  \n",
       "2018-01-03        61.0         66.0  \n",
       "2018-01-04         NaN          NaN  "
      ]
     },
     "execution_count": 35,
     "metadata": {},
     "output_type": "execute_result"
    }
   ],
   "source": [
    "df.head()"
   ]
  },
  {
   "cell_type": "markdown",
   "metadata": {},
   "source": [
    "## 2. What was the average low price for eggs in each of the years of data?"
   ]
  },
  {
   "cell_type": "code",
   "execution_count": 36,
   "metadata": {},
   "outputs": [
    {
     "name": "stderr",
     "output_type": "stream",
     "text": [
      "/var/folders/x_/pp_bgvrn2qn_kh8n569y1gch0000gn/T/ipykernel_73539/2649865487.py:1: FutureWarning: The default value of numeric_only in DataFrameGroupBy.mean is deprecated. In a future version, numeric_only will default to False. Either specify numeric_only or select only columns which should be valid for the function.\n",
      "  df.groupby(df.index.year).mean()\n"
     ]
    },
    {
     "data": {
      "text/html": [
       "<div>\n",
       "<style scoped>\n",
       "    .dataframe tbody tr th:only-of-type {\n",
       "        vertical-align: middle;\n",
       "    }\n",
       "\n",
       "    .dataframe tbody tr th {\n",
       "        vertical-align: top;\n",
       "    }\n",
       "\n",
       "    .dataframe thead th {\n",
       "        text-align: right;\n",
       "    }\n",
       "</style>\n",
       "<table border=\"1\" class=\"dataframe\">\n",
       "  <thead>\n",
       "    <tr style=\"text-align: right;\">\n",
       "      <th></th>\n",
       "      <th>Low Price</th>\n",
       "      <th>High Price</th>\n",
       "      <th>Mostly Low</th>\n",
       "      <th>Mostly High</th>\n",
       "    </tr>\n",
       "    <tr>\n",
       "      <th>Date</th>\n",
       "      <th></th>\n",
       "      <th></th>\n",
       "      <th></th>\n",
       "      <th></th>\n",
       "    </tr>\n",
       "  </thead>\n",
       "  <tbody>\n",
       "    <tr>\n",
       "      <th>2018</th>\n",
       "      <td>59.083333</td>\n",
       "      <td>65.644578</td>\n",
       "      <td>55.325581</td>\n",
       "      <td>60.049834</td>\n",
       "    </tr>\n",
       "    <tr>\n",
       "      <th>2019</th>\n",
       "      <td>27.268000</td>\n",
       "      <td>32.858000</td>\n",
       "      <td>23.220896</td>\n",
       "      <td>27.244776</td>\n",
       "    </tr>\n",
       "    <tr>\n",
       "      <th>2020</th>\n",
       "      <td>32.950199</td>\n",
       "      <td>38.507968</td>\n",
       "      <td>30.973134</td>\n",
       "      <td>35.364179</td>\n",
       "    </tr>\n",
       "    <tr>\n",
       "      <th>2021</th>\n",
       "      <td>49.072000</td>\n",
       "      <td>54.326000</td>\n",
       "      <td>45.901587</td>\n",
       "      <td>49.949206</td>\n",
       "    </tr>\n",
       "    <tr>\n",
       "      <th>2022</th>\n",
       "      <td>188.148000</td>\n",
       "      <td>199.242000</td>\n",
       "      <td>183.421642</td>\n",
       "      <td>186.123134</td>\n",
       "    </tr>\n",
       "    <tr>\n",
       "      <th>2023</th>\n",
       "      <td>125.050532</td>\n",
       "      <td>140.428191</td>\n",
       "      <td>126.954128</td>\n",
       "      <td>129.692661</td>\n",
       "    </tr>\n",
       "  </tbody>\n",
       "</table>\n",
       "</div>"
      ],
      "text/plain": [
       "       Low Price  High Price  Mostly Low  Mostly High\n",
       "Date                                                 \n",
       "2018   59.083333   65.644578   55.325581    60.049834\n",
       "2019   27.268000   32.858000   23.220896    27.244776\n",
       "2020   32.950199   38.507968   30.973134    35.364179\n",
       "2021   49.072000   54.326000   45.901587    49.949206\n",
       "2022  188.148000  199.242000  183.421642   186.123134\n",
       "2023  125.050532  140.428191  126.954128   129.692661"
      ]
     },
     "execution_count": 36,
     "metadata": {},
     "output_type": "execute_result"
    }
   ],
   "source": [
    "df.groupby(df.index.year).mean()"
   ]
  },
  {
   "cell_type": "code",
   "execution_count": 37,
   "metadata": {},
   "outputs": [
    {
     "name": "stderr",
     "output_type": "stream",
     "text": [
      "/var/folders/x_/pp_bgvrn2qn_kh8n569y1gch0000gn/T/ipykernel_73539/2420549494.py:1: FutureWarning: The default value of numeric_only in DataFrameGroupBy.mean is deprecated. In a future version, numeric_only will default to False. Either specify numeric_only or select only columns which should be valid for the function.\n",
      "  df.groupby(df.index.year).mean().plot(kind=\"bar\")\n"
     ]
    },
    {
     "data": {
      "text/plain": [
       "<AxesSubplot: xlabel='Date'>"
      ]
     },
     "execution_count": 37,
     "metadata": {},
     "output_type": "execute_result"
    },
    {
     "data": {
      "image/png": "[encoded data removed]",
      "text/plain": [
       "<Figure size 640x480 with 1 Axes>"
      ]
     },
     "metadata": {},
     "output_type": "display_data"
    }
   ],
   "source": [
    "df.groupby(df.index.year).mean().plot(kind=\"bar\")"
   ]
  },
  {
   "cell_type": "markdown",
   "metadata": {},
   "source": [
    "## 3. In what year was the increase the greatest?"
   ]
  },
  {
   "cell_type": "code",
   "execution_count": 45,
   "metadata": {},
   "outputs": [
    {
     "name": "stderr",
     "output_type": "stream",
     "text": [
      "/var/folders/x_/pp_bgvrn2qn_kh8n569y1gch0000gn/T/ipykernel_73539/4053604496.py:1: FutureWarning: The default value of numeric_only in DataFrameGroupBy.mean is deprecated. In a future version, numeric_only will default to False. Either specify numeric_only or select only columns which should be valid for the function.\n",
      "  df.groupby(df.index.year).mean().pct_change()\n"
     ]
    },
    {
     "data": {
      "text/html": [
       "<div>\n",
       "<style scoped>\n",
       "    .dataframe tbody tr th:only-of-type {\n",
       "        vertical-align: middle;\n",
       "    }\n",
       "\n",
       "    .dataframe tbody tr th {\n",
       "        vertical-align: top;\n",
       "    }\n",
       "\n",
       "    .dataframe thead th {\n",
       "        text-align: right;\n",
       "    }\n",
       "</style>\n",
       "<table border=\"1\" class=\"dataframe\">\n",
       "  <thead>\n",
       "    <tr style=\"text-align: right;\">\n",
       "      <th></th>\n",
       "      <th>Low Price</th>\n",
       "      <th>High Price</th>\n",
       "      <th>Mostly Low</th>\n",
       "      <th>Mostly High</th>\n",
       "    </tr>\n",
       "    <tr>\n",
       "      <th>Date</th>\n",
       "      <th></th>\n",
       "      <th></th>\n",
       "      <th></th>\n",
       "      <th></th>\n",
       "    </tr>\n",
       "  </thead>\n",
       "  <tbody>\n",
       "    <tr>\n",
       "      <th>2018</th>\n",
       "      <td>NaN</td>\n",
       "      <td>NaN</td>\n",
       "      <td>NaN</td>\n",
       "      <td>NaN</td>\n",
       "    </tr>\n",
       "    <tr>\n",
       "      <th>2019</th>\n",
       "      <td>-0.538482</td>\n",
       "      <td>-0.499456</td>\n",
       "      <td>-0.580286</td>\n",
       "      <td>-0.546297</td>\n",
       "    </tr>\n",
       "    <tr>\n",
       "      <th>2020</th>\n",
       "      <td>0.208383</td>\n",
       "      <td>0.171951</td>\n",
       "      <td>0.333848</td>\n",
       "      <td>0.298017</td>\n",
       "    </tr>\n",
       "    <tr>\n",
       "      <th>2021</th>\n",
       "      <td>0.489278</td>\n",
       "      <td>0.410773</td>\n",
       "      <td>0.481981</td>\n",
       "      <td>0.412424</td>\n",
       "    </tr>\n",
       "    <tr>\n",
       "      <th>2022</th>\n",
       "      <td>2.834121</td>\n",
       "      <td>2.667526</td>\n",
       "      <td>2.995976</td>\n",
       "      <td>2.726248</td>\n",
       "    </tr>\n",
       "    <tr>\n",
       "      <th>2023</th>\n",
       "      <td>-0.335361</td>\n",
       "      <td>-0.295188</td>\n",
       "      <td>-0.307856</td>\n",
       "      <td>-0.303189</td>\n",
       "    </tr>\n",
       "  </tbody>\n",
       "</table>\n",
       "</div>"
      ],
      "text/plain": [
       "      Low Price  High Price  Mostly Low  Mostly High\n",
       "Date                                                \n",
       "2018        NaN         NaN         NaN          NaN\n",
       "2019  -0.538482   -0.499456   -0.580286    -0.546297\n",
       "2020   0.208383    0.171951    0.333848     0.298017\n",
       "2021   0.489278    0.410773    0.481981     0.412424\n",
       "2022   2.834121    2.667526    2.995976     2.726248\n",
       "2023  -0.335361   -0.295188   -0.307856    -0.303189"
      ]
     },
     "execution_count": 45,
     "metadata": {},
     "output_type": "execute_result"
    }
   ],
   "source": [
    "df.groupby(df.index.year).mean().pct_change()"
   ]
  },
  {
   "cell_type": "markdown",
   "metadata": {},
   "source": [
    "## 4. Now get the average low price for eggs in each month and year of data."
   ]
  },
  {
   "cell_type": "code",
   "execution_count": 39,
   "metadata": {},
   "outputs": [
    {
     "name": "stderr",
     "output_type": "stream",
     "text": [
      "/var/folders/x_/pp_bgvrn2qn_kh8n569y1gch0000gn/T/ipykernel_73539/2621821602.py:1: FutureWarning: The default value of numeric_only in DataFrameGroupBy.mean is deprecated. In a future version, numeric_only will default to False. Either specify numeric_only or select only columns which should be valid for the function.\n",
      "  df.groupby([df.index.year, df.index.month]).mean()\n"
     ]
    },
    {
     "data": {
      "text/html": [
       "<div>\n",
       "<style scoped>\n",
       "    .dataframe tbody tr th:only-of-type {\n",
       "        vertical-align: middle;\n",
       "    }\n",
       "\n",
       "    .dataframe tbody tr th {\n",
       "        vertical-align: top;\n",
       "    }\n",
       "\n",
       "    .dataframe thead th {\n",
       "        text-align: right;\n",
       "    }\n",
       "</style>\n",
       "<table border=\"1\" class=\"dataframe\">\n",
       "  <thead>\n",
       "    <tr style=\"text-align: right;\">\n",
       "      <th></th>\n",
       "      <th></th>\n",
       "      <th>Low Price</th>\n",
       "      <th>High Price</th>\n",
       "      <th>Mostly Low</th>\n",
       "      <th>Mostly High</th>\n",
       "    </tr>\n",
       "    <tr>\n",
       "      <th>Date</th>\n",
       "      <th>Date</th>\n",
       "      <th></th>\n",
       "      <th></th>\n",
       "      <th></th>\n",
       "      <th></th>\n",
       "    </tr>\n",
       "  </thead>\n",
       "  <tbody>\n",
       "    <tr>\n",
       "      <th rowspan=\"5\" valign=\"top\">2018</th>\n",
       "      <th>1</th>\n",
       "      <td>54.190476</td>\n",
       "      <td>61.642857</td>\n",
       "      <td>51.090909</td>\n",
       "      <td>55.954545</td>\n",
       "    </tr>\n",
       "    <tr>\n",
       "      <th>2</th>\n",
       "      <td>68.000000</td>\n",
       "      <td>74.078947</td>\n",
       "      <td>63.315789</td>\n",
       "      <td>68.315789</td>\n",
       "    </tr>\n",
       "    <tr>\n",
       "      <th>3</th>\n",
       "      <td>104.068182</td>\n",
       "      <td>110.500000</td>\n",
       "      <td>99.000000</td>\n",
       "      <td>104.083333</td>\n",
       "    </tr>\n",
       "    <tr>\n",
       "      <th>4</th>\n",
       "      <td>78.785714</td>\n",
       "      <td>86.880952</td>\n",
       "      <td>75.586207</td>\n",
       "      <td>80.034483</td>\n",
       "    </tr>\n",
       "    <tr>\n",
       "      <th>5</th>\n",
       "      <td>56.522727</td>\n",
       "      <td>61.863636</td>\n",
       "      <td>50.136364</td>\n",
       "      <td>55.136364</td>\n",
       "    </tr>\n",
       "    <tr>\n",
       "      <th>...</th>\n",
       "      <th>...</th>\n",
       "      <td>...</td>\n",
       "      <td>...</td>\n",
       "      <td>...</td>\n",
       "      <td>...</td>\n",
       "    </tr>\n",
       "    <tr>\n",
       "      <th rowspan=\"5\" valign=\"top\">2023</th>\n",
       "      <th>5</th>\n",
       "      <td>36.931818</td>\n",
       "      <td>45.363636</td>\n",
       "      <td>33.086957</td>\n",
       "      <td>35.260870</td>\n",
       "    </tr>\n",
       "    <tr>\n",
       "      <th>6</th>\n",
       "      <td>66.190476</td>\n",
       "      <td>75.595238</td>\n",
       "      <td>66.807692</td>\n",
       "      <td>68.923077</td>\n",
       "    </tr>\n",
       "    <tr>\n",
       "      <th>7</th>\n",
       "      <td>77.875000</td>\n",
       "      <td>87.450000</td>\n",
       "      <td>76.866667</td>\n",
       "      <td>80.466667</td>\n",
       "    </tr>\n",
       "    <tr>\n",
       "      <th>8</th>\n",
       "      <td>78.500000</td>\n",
       "      <td>86.652174</td>\n",
       "      <td>74.217391</td>\n",
       "      <td>76.217391</td>\n",
       "    </tr>\n",
       "    <tr>\n",
       "      <th>9</th>\n",
       "      <td>78.175000</td>\n",
       "      <td>90.050000</td>\n",
       "      <td>75.800000</td>\n",
       "      <td>77.800000</td>\n",
       "    </tr>\n",
       "  </tbody>\n",
       "</table>\n",
       "<p>69 rows × 4 columns</p>\n",
       "</div>"
      ],
      "text/plain": [
       "            Low Price  High Price  Mostly Low  Mostly High\n",
       "Date Date                                                 \n",
       "2018 1      54.190476   61.642857   51.090909    55.954545\n",
       "     2      68.000000   74.078947   63.315789    68.315789\n",
       "     3     104.068182  110.500000   99.000000   104.083333\n",
       "     4      78.785714   86.880952   75.586207    80.034483\n",
       "     5      56.522727   61.863636   50.136364    55.136364\n",
       "...               ...         ...         ...          ...\n",
       "2023 5      36.931818   45.363636   33.086957    35.260870\n",
       "     6      66.190476   75.595238   66.807692    68.923077\n",
       "     7      77.875000   87.450000   76.866667    80.466667\n",
       "     8      78.500000   86.652174   74.217391    76.217391\n",
       "     9      78.175000   90.050000   75.800000    77.800000\n",
       "\n",
       "[69 rows x 4 columns]"
      ]
     },
     "execution_count": 39,
     "metadata": {},
     "output_type": "execute_result"
    }
   ],
   "source": [
    "df.groupby([df.index.year, df.index.month]).mean()"
   ]
  },
  {
   "cell_type": "markdown",
   "metadata": {},
   "source": [
    "## 5. Have egg prices gone down in the last few months?"
   ]
  },
  {
   "cell_type": "code",
   "execution_count": 42,
   "metadata": {},
   "outputs": [
    {
     "name": "stderr",
     "output_type": "stream",
     "text": [
      "/var/folders/x_/pp_bgvrn2qn_kh8n569y1gch0000gn/T/ipykernel_73539/919209415.py:1: FutureWarning: The default value of numeric_only in DataFrameGroupBy.mean is deprecated. In a future version, numeric_only will default to False. Either specify numeric_only or select only columns which should be valid for the function.\n",
      "  df.loc[\"2023\"].groupby(df.loc[\"2023\"].index.month).mean().plot(kind=\"line\")\n"
     ]
    },
    {
     "data": {
      "text/plain": [
       "<AxesSubplot: xlabel='Date'>"
      ]
     },
     "execution_count": 42,
     "metadata": {},
     "output_type": "execute_result"
    },
    {
     "data": {
      "image/png": "[encoded data removed]",
      "text/plain": [
       "<Figure size 640x480 with 1 Axes>"
      ]
     },
     "metadata": {},
     "output_type": "display_data"
    }
   ],
   "source": [
    "df.loc[\"2023\"].groupby(df.loc[\"2023\"].index.month).mean().plot(kind=\"line\")"
   ]
  }
 ],
 "metadata": {
  "kernelspec": {
   "display_name": "base",
   "language": "python",
   "name": "python3"
  },
  "language_info": {
   "codemirror_mode": {
    "name": "ipython",
    "version": 3
   },
   "file_extension": ".py",
   "mimetype": "text/x-python",
   "name": "python",
   "nbconvert_exporter": "python",
   "pygments_lexer": "ipython3",
   "version": "3.9.15"
  },
  "orig_nbformat": 4
 },
 "nbformat": 4,
 "nbformat_minor": 2
}
