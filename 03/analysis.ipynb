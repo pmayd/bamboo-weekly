{
 "cells": [
  {
   "cell_type": "code",
   "execution_count": 12,
   "metadata": {},
   "outputs": [],
   "source": [
    "import pandas as pd\n",
    "import numpy as np\n",
    "import matplotlib.pyplot as plt \n",
    "from pathlib import Path"
   ]
  },
  {
   "cell_type": "code",
   "execution_count": 2,
   "metadata": {},
   "outputs": [],
   "source": [
    "pd.options.display.max_columns = 100\n",
    "pd.options.display.max_rows = 100"
   ]
  },
  {
   "cell_type": "code",
   "execution_count": 3,
   "metadata": {},
   "outputs": [],
   "source": [
    "data = Path(\"data/earthquakes.csv\")"
   ]
  },
  {
   "cell_type": "markdown",
   "metadata": {},
   "source": [
    "> Side note: Researching this week’s question, I was reminded that the measurement scale is logarithmic, meaning that a magnitude-6 earthquake is 10 times larger than a magnitude 5 earthquake. I didn’t realize, however, that the damage done isn’t 10 times greater — it can be more than 30 times greater. Yikes. And I also learned that we no longer use the Richter scale, even though people commonly refer to it that way. And that the scale describes the logarithm of the amplitude of the earthquake’s waves, as measured on a seismograph."
   ]
  },
  {
   "cell_type": "markdown",
   "metadata": {},
   "source": [
    "## 1. Read the downloaded CSV file (which will be called `query.csv`, but which I renamed to `earthquake-data.csv` on my computer) into Pandas."
   ]
  },
  {
   "cell_type": "code",
   "execution_count": 4,
   "metadata": {},
   "outputs": [],
   "source": [
    "df = pd.read_csv(data, parse_dates=[\"time\", \"updated\"], index_col=\"time\")"
   ]
  },
  {
   "cell_type": "code",
   "execution_count": 11,
   "metadata": {},
   "outputs": [
    {
     "data": {
      "text/plain": [
       "['depth',\n",
       " 'depthError',\n",
       " 'dmin',\n",
       " 'gap',\n",
       " 'horizontalError',\n",
       " 'id',\n",
       " 'latitude',\n",
       " 'locationSource',\n",
       " 'longitude',\n",
       " 'mag',\n",
       " 'magError',\n",
       " 'magNst',\n",
       " 'magSource',\n",
       " 'magType',\n",
       " 'net',\n",
       " 'nst',\n",
       " 'place',\n",
       " 'rms',\n",
       " 'status',\n",
       " 'type',\n",
       " 'updated']"
      ]
     },
     "execution_count": 11,
     "metadata": {},
     "output_type": "execute_result"
    }
   ],
   "source": [
    "sorted(df.columns)"
   ]
  },
  {
   "cell_type": "code",
   "execution_count": 13,
   "metadata": {},
   "outputs": [
    {
     "data": {
      "text/html": [
       "<div>\n",
       "<style scoped>\n",
       "    .dataframe tbody tr th:only-of-type {\n",
       "        vertical-align: middle;\n",
       "    }\n",
       "\n",
       "    .dataframe tbody tr th {\n",
       "        vertical-align: top;\n",
       "    }\n",
       "\n",
       "    .dataframe thead th {\n",
       "        text-align: right;\n",
       "    }\n",
       "</style>\n",
       "<table border=\"1\" class=\"dataframe\">\n",
       "  <thead>\n",
       "    <tr style=\"text-align: right;\">\n",
       "      <th></th>\n",
       "      <th>latitude</th>\n",
       "      <th>longitude</th>\n",
       "      <th>depth</th>\n",
       "      <th>mag</th>\n",
       "      <th>magType</th>\n",
       "      <th>nst</th>\n",
       "      <th>gap</th>\n",
       "      <th>dmin</th>\n",
       "      <th>rms</th>\n",
       "      <th>net</th>\n",
       "      <th>id</th>\n",
       "      <th>updated</th>\n",
       "      <th>place</th>\n",
       "      <th>type</th>\n",
       "      <th>horizontalError</th>\n",
       "      <th>depthError</th>\n",
       "      <th>magError</th>\n",
       "      <th>magNst</th>\n",
       "      <th>status</th>\n",
       "      <th>locationSource</th>\n",
       "      <th>magSource</th>\n",
       "    </tr>\n",
       "    <tr>\n",
       "      <th>time</th>\n",
       "      <th></th>\n",
       "      <th></th>\n",
       "      <th></th>\n",
       "      <th></th>\n",
       "      <th></th>\n",
       "      <th></th>\n",
       "      <th></th>\n",
       "      <th></th>\n",
       "      <th></th>\n",
       "      <th></th>\n",
       "      <th></th>\n",
       "      <th></th>\n",
       "      <th></th>\n",
       "      <th></th>\n",
       "      <th></th>\n",
       "      <th></th>\n",
       "      <th></th>\n",
       "      <th></th>\n",
       "      <th></th>\n",
       "      <th></th>\n",
       "      <th></th>\n",
       "    </tr>\n",
       "  </thead>\n",
       "  <tbody>\n",
       "    <tr>\n",
       "      <th>2023-02-14 13:16:50.827000+00:00</th>\n",
       "      <td>45.099800</td>\n",
       "      <td>23.201300</td>\n",
       "      <td>10.000</td>\n",
       "      <td>5.60</td>\n",
       "      <td>mww</td>\n",
       "      <td>197.0</td>\n",
       "      <td>27.0</td>\n",
       "      <td>1.217</td>\n",
       "      <td>0.60</td>\n",
       "      <td>us</td>\n",
       "      <td>us6000jnqz</td>\n",
       "      <td>2023-07-28 14:12:02.324000+00:00</td>\n",
       "      <td>0 km ESE of Lele?ti, Romania</td>\n",
       "      <td>earthquake</td>\n",
       "      <td>5.14</td>\n",
       "      <td>1.742</td>\n",
       "      <td>0.0320</td>\n",
       "      <td>95.0</td>\n",
       "      <td>reviewed</td>\n",
       "      <td>us</td>\n",
       "      <td>us</td>\n",
       "    </tr>\n",
       "    <tr>\n",
       "      <th>2023-02-14 02:03:16.305000+00:00</th>\n",
       "      <td>-15.355200</td>\n",
       "      <td>167.541000</td>\n",
       "      <td>119.646</td>\n",
       "      <td>5.20</td>\n",
       "      <td>mww</td>\n",
       "      <td>130.0</td>\n",
       "      <td>20.0</td>\n",
       "      <td>0.338</td>\n",
       "      <td>0.80</td>\n",
       "      <td>us</td>\n",
       "      <td>us6000jnpc</td>\n",
       "      <td>2023-04-22 21:33:07.040000+00:00</td>\n",
       "      <td>44 km ENE of Luganville, Vanuatu</td>\n",
       "      <td>earthquake</td>\n",
       "      <td>7.67</td>\n",
       "      <td>3.289</td>\n",
       "      <td>0.0890</td>\n",
       "      <td>12.0</td>\n",
       "      <td>reviewed</td>\n",
       "      <td>us</td>\n",
       "      <td>us</td>\n",
       "    </tr>\n",
       "    <tr>\n",
       "      <th>2023-02-13 09:18:12.524000+00:00</th>\n",
       "      <td>-29.369800</td>\n",
       "      <td>-178.971800</td>\n",
       "      <td>354.000</td>\n",
       "      <td>6.10</td>\n",
       "      <td>mww</td>\n",
       "      <td>120.0</td>\n",
       "      <td>34.0</td>\n",
       "      <td>0.919</td>\n",
       "      <td>1.07</td>\n",
       "      <td>us</td>\n",
       "      <td>us6000jnk5</td>\n",
       "      <td>2023-04-22 21:33:05.040000+00:00</td>\n",
       "      <td>Kermadec Islands, New Zealand</td>\n",
       "      <td>earthquake</td>\n",
       "      <td>9.97</td>\n",
       "      <td>1.679</td>\n",
       "      <td>0.0490</td>\n",
       "      <td>40.0</td>\n",
       "      <td>reviewed</td>\n",
       "      <td>us</td>\n",
       "      <td>us</td>\n",
       "    </tr>\n",
       "    <tr>\n",
       "      <th>2023-02-12 02:21:23.340000+00:00</th>\n",
       "      <td>19.149833</td>\n",
       "      <td>-155.370833</td>\n",
       "      <td>30.210</td>\n",
       "      <td>3.83</td>\n",
       "      <td>ml</td>\n",
       "      <td>49.0</td>\n",
       "      <td>180.0</td>\n",
       "      <td>NaN</td>\n",
       "      <td>0.15</td>\n",
       "      <td>hv</td>\n",
       "      <td>hv73323102</td>\n",
       "      <td>2023-04-22 21:33:01.040000+00:00</td>\n",
       "      <td>12 km ESE of P?hala, Hawaii</td>\n",
       "      <td>earthquake</td>\n",
       "      <td>0.54</td>\n",
       "      <td>0.710</td>\n",
       "      <td>0.1112</td>\n",
       "      <td>39.0</td>\n",
       "      <td>reviewed</td>\n",
       "      <td>hv</td>\n",
       "      <td>hv</td>\n",
       "    </tr>\n",
       "    <tr>\n",
       "      <th>2023-02-11 15:31:26.636000+00:00</th>\n",
       "      <td>-35.361600</td>\n",
       "      <td>-15.569700</td>\n",
       "      <td>10.000</td>\n",
       "      <td>5.60</td>\n",
       "      <td>mww</td>\n",
       "      <td>43.0</td>\n",
       "      <td>85.0</td>\n",
       "      <td>21.229</td>\n",
       "      <td>0.63</td>\n",
       "      <td>us</td>\n",
       "      <td>us6000jnb3</td>\n",
       "      <td>2023-04-15 21:39:58.040000+00:00</td>\n",
       "      <td>Tristan da Cunha region</td>\n",
       "      <td>earthquake</td>\n",
       "      <td>12.93</td>\n",
       "      <td>1.881</td>\n",
       "      <td>0.0730</td>\n",
       "      <td>18.0</td>\n",
       "      <td>reviewed</td>\n",
       "      <td>us</td>\n",
       "      <td>us</td>\n",
       "    </tr>\n",
       "  </tbody>\n",
       "</table>\n",
       "</div>"
      ],
      "text/plain": [
       "                                   latitude   longitude    depth   mag  \\\n",
       "time                                                                     \n",
       "2023-02-14 13:16:50.827000+00:00  45.099800   23.201300   10.000  5.60   \n",
       "2023-02-14 02:03:16.305000+00:00 -15.355200  167.541000  119.646  5.20   \n",
       "2023-02-13 09:18:12.524000+00:00 -29.369800 -178.971800  354.000  6.10   \n",
       "2023-02-12 02:21:23.340000+00:00  19.149833 -155.370833   30.210  3.83   \n",
       "2023-02-11 15:31:26.636000+00:00 -35.361600  -15.569700   10.000  5.60   \n",
       "\n",
       "                                 magType    nst    gap    dmin   rms net  \\\n",
       "time                                                                       \n",
       "2023-02-14 13:16:50.827000+00:00     mww  197.0   27.0   1.217  0.60  us   \n",
       "2023-02-14 02:03:16.305000+00:00     mww  130.0   20.0   0.338  0.80  us   \n",
       "2023-02-13 09:18:12.524000+00:00     mww  120.0   34.0   0.919  1.07  us   \n",
       "2023-02-12 02:21:23.340000+00:00      ml   49.0  180.0     NaN  0.15  hv   \n",
       "2023-02-11 15:31:26.636000+00:00     mww   43.0   85.0  21.229  0.63  us   \n",
       "\n",
       "                                          id                          updated  \\\n",
       "time                                                                            \n",
       "2023-02-14 13:16:50.827000+00:00  us6000jnqz 2023-07-28 14:12:02.324000+00:00   \n",
       "2023-02-14 02:03:16.305000+00:00  us6000jnpc 2023-04-22 21:33:07.040000+00:00   \n",
       "2023-02-13 09:18:12.524000+00:00  us6000jnk5 2023-04-22 21:33:05.040000+00:00   \n",
       "2023-02-12 02:21:23.340000+00:00  hv73323102 2023-04-22 21:33:01.040000+00:00   \n",
       "2023-02-11 15:31:26.636000+00:00  us6000jnb3 2023-04-15 21:39:58.040000+00:00   \n",
       "\n",
       "                                                             place  \\\n",
       "time                                                                 \n",
       "2023-02-14 13:16:50.827000+00:00      0 km ESE of Lele?ti, Romania   \n",
       "2023-02-14 02:03:16.305000+00:00  44 km ENE of Luganville, Vanuatu   \n",
       "2023-02-13 09:18:12.524000+00:00     Kermadec Islands, New Zealand   \n",
       "2023-02-12 02:21:23.340000+00:00       12 km ESE of P?hala, Hawaii   \n",
       "2023-02-11 15:31:26.636000+00:00           Tristan da Cunha region   \n",
       "\n",
       "                                        type  horizontalError  depthError  \\\n",
       "time                                                                        \n",
       "2023-02-14 13:16:50.827000+00:00  earthquake             5.14       1.742   \n",
       "2023-02-14 02:03:16.305000+00:00  earthquake             7.67       3.289   \n",
       "2023-02-13 09:18:12.524000+00:00  earthquake             9.97       1.679   \n",
       "2023-02-12 02:21:23.340000+00:00  earthquake             0.54       0.710   \n",
       "2023-02-11 15:31:26.636000+00:00  earthquake            12.93       1.881   \n",
       "\n",
       "                                  magError  magNst    status locationSource  \\\n",
       "time                                                                          \n",
       "2023-02-14 13:16:50.827000+00:00    0.0320    95.0  reviewed             us   \n",
       "2023-02-14 02:03:16.305000+00:00    0.0890    12.0  reviewed             us   \n",
       "2023-02-13 09:18:12.524000+00:00    0.0490    40.0  reviewed             us   \n",
       "2023-02-12 02:21:23.340000+00:00    0.1112    39.0  reviewed             hv   \n",
       "2023-02-11 15:31:26.636000+00:00    0.0730    18.0  reviewed             us   \n",
       "\n",
       "                                 magSource  \n",
       "time                                        \n",
       "2023-02-14 13:16:50.827000+00:00        us  \n",
       "2023-02-14 02:03:16.305000+00:00        us  \n",
       "2023-02-13 09:18:12.524000+00:00        us  \n",
       "2023-02-12 02:21:23.340000+00:00        hv  \n",
       "2023-02-11 15:31:26.636000+00:00        us  "
      ]
     },
     "execution_count": 13,
     "metadata": {},
     "output_type": "execute_result"
    }
   ],
   "source": [
    "df.head()"
   ]
  },
  {
   "cell_type": "code",
   "execution_count": 90,
   "metadata": {},
   "outputs": [
    {
     "data": {
      "text/plain": [
       "earthquake           8043\n",
       "volcanic eruption      17\n",
       "nuclear explosion       1\n",
       "Name: type, dtype: int64"
      ]
     },
     "execution_count": 90,
     "metadata": {},
     "output_type": "execute_result"
    }
   ],
   "source": [
    "df.type.value_counts()"
   ]
  },
  {
   "cell_type": "markdown",
   "metadata": {},
   "source": [
    "## 2. How many seismic events take place each year? In which of the last 20 years did we have the greatest number of such events?"
   ]
  },
  {
   "cell_type": "code",
   "execution_count": 16,
   "metadata": {},
   "outputs": [
    {
     "data": {
      "text/plain": [
       "time\n",
       "2021    1029\n",
       "2020     932\n",
       "2019     848\n",
       "2018     833\n",
       "2022     778\n",
       "2014     760\n",
       "2015     695\n",
       "2016     680\n",
       "2013     611\n",
       "2017     595\n",
       "2023      95\n",
       "2010      57\n",
       "2012      20\n",
       "2008      19\n",
       "2009      18\n",
       "2005      17\n",
       "2001      15\n",
       "2011      13\n",
       "2003      11\n",
       "2002      11\n",
       "2004       8\n",
       "2000       8\n",
       "2006       5\n",
       "2007       3\n",
       "dtype: int64"
      ]
     },
     "execution_count": 16,
     "metadata": {},
     "output_type": "execute_result"
    }
   ],
   "source": [
    "df.groupby(df.index.year).size().sort_values(ascending=False)"
   ]
  },
  {
   "cell_type": "code",
   "execution_count": 62,
   "metadata": {},
   "outputs": [
    {
     "data": {
      "text/plain": [
       "2021    1029\n",
       "2020     932\n",
       "2019     848\n",
       "2018     833\n",
       "2022     778\n",
       "2014     760\n",
       "2015     695\n",
       "2016     680\n",
       "2013     611\n",
       "2017     595\n",
       "2023      95\n",
       "2010      57\n",
       "2012      20\n",
       "2008      19\n",
       "2009      18\n",
       "2005      17\n",
       "2001      15\n",
       "2011      13\n",
       "2003      11\n",
       "2002      11\n",
       "2004       8\n",
       "2000       8\n",
       "2006       5\n",
       "2007       3\n",
       "Name: time, dtype: int64"
      ]
     },
     "execution_count": 62,
     "metadata": {},
     "output_type": "execute_result"
    }
   ],
   "source": [
    "# alternative\n",
    "df.index.year.value_counts()"
   ]
  },
  {
   "cell_type": "markdown",
   "metadata": {},
   "source": [
    "## 3. What are common magnitudes? Looking only at the integer portion of the magnitudes, how often does each value occur?"
   ]
  },
  {
   "cell_type": "code",
   "execution_count": 75,
   "metadata": {},
   "outputs": [],
   "source": [
    "df[\"magClass\"] = df.mag.astype(\"int8\")"
   ]
  },
  {
   "cell_type": "code",
   "execution_count": 76,
   "metadata": {},
   "outputs": [
    {
     "data": {
      "text/plain": [
       "5    4575\n",
       "4    1593\n",
       "6    1255\n",
       "3     482\n",
       "7     135\n",
       "8      12\n",
       "2       9\n",
       "Name: magClass, dtype: int64"
      ]
     },
     "execution_count": 76,
     "metadata": {},
     "output_type": "execute_result"
    }
   ],
   "source": [
    "df.magClass.value_counts()"
   ]
  },
  {
   "cell_type": "markdown",
   "metadata": {},
   "source": [
    "### What percentage of earthquakes in our data set were 7 or greater? We can find out by passing “normalize=True” to “value_counts”:"
   ]
  },
  {
   "cell_type": "code",
   "execution_count": 77,
   "metadata": {},
   "outputs": [
    {
     "data": {
      "text/plain": [
       "5    0.567547\n",
       "4    0.197618\n",
       "6    0.155688\n",
       "3    0.059794\n",
       "7    0.016747\n",
       "8    0.001489\n",
       "2    0.001116\n",
       "Name: magClass, dtype: float64"
      ]
     },
     "execution_count": 77,
     "metadata": {},
     "output_type": "execute_result"
    }
   ],
   "source": [
    "df.magClass.value_counts(normalize=True)"
   ]
  },
  {
   "cell_type": "code",
   "execution_count": 29,
   "metadata": {},
   "outputs": [
    {
     "data": {
      "text/plain": [
       "<AxesSubplot: >"
      ]
     },
     "execution_count": 29,
     "metadata": {},
     "output_type": "execute_result"
    },
    {
     "data": {
      "image/png": "[encoded data removed]",
      "text/plain": [
       "<Figure size 640x480 with 1 Axes>"
      ]
     },
     "metadata": {},
     "output_type": "display_data"
    }
   ],
   "source": [
    "df.magClass.value_counts().sort_index().plot(kind=\"bar\")"
   ]
  },
  {
   "cell_type": "markdown",
   "metadata": {},
   "source": [
    "## 4. How many seismic events took place in Turkey on February 6th? What was their average magnitude? What was the mean magnitude?"
   ]
  },
  {
   "cell_type": "code",
   "execution_count": 78,
   "metadata": {},
   "outputs": [],
   "source": [
    "df_sub = df.dropna(subset='place')\n",
    "df_sub = df_sub.loc[\"2023-02-06\"]\n",
    "df_sub = df_sub[df_sub.place.str.contains(\"Turkey\")]"
   ]
  },
  {
   "cell_type": "code",
   "execution_count": 79,
   "metadata": {},
   "outputs": [
    {
     "data": {
      "text/plain": [
       "220"
      ]
     },
     "execution_count": 79,
     "metadata": {},
     "output_type": "execute_result"
    }
   ],
   "source": [
    "df_sub.size"
   ]
  },
  {
   "cell_type": "code",
   "execution_count": 80,
   "metadata": {},
   "outputs": [
    {
     "data": {
      "text/plain": [
       "count    10.000000\n",
       "mean      5.710000\n",
       "std       0.481779\n",
       "min       4.900000\n",
       "25%       5.450000\n",
       "50%       5.700000\n",
       "75%       5.950000\n",
       "max       6.700000\n",
       "Name: mag, dtype: float64"
      ]
     },
     "execution_count": 80,
     "metadata": {},
     "output_type": "execute_result"
    }
   ],
   "source": [
    "df_sub.mag.describe()"
   ]
  },
  {
   "cell_type": "markdown",
   "metadata": {},
   "source": [
    "## 5. Are earthquakes common in Turkey? From the \"place\" column, extract the text following the final comma, and get the 30 most common places in the world with earthquakes."
   ]
  },
  {
   "cell_type": "code",
   "execution_count": 81,
   "metadata": {},
   "outputs": [],
   "source": [
    "df[\"region\"] = df.place.str.split(\",\").str.get(-1).str.strip()"
   ]
  },
  {
   "cell_type": "code",
   "execution_count": 86,
   "metadata": {},
   "outputs": [
    {
     "data": {
      "text/plain": [
       "Alaska                              913\n",
       "Indonesia                           521\n",
       "CA                                  398\n",
       "Papua New Guinea                    367\n",
       "Chile                               273\n",
       "Japan                               270\n",
       "Tonga                               222\n",
       "South Sandwich Islands region       202\n",
       "Philippines                         197\n",
       "New Zealand                         183\n",
       "Solomon Islands                     183\n",
       "Vanuatu                             183\n",
       "Oklahoma                            175\n",
       "Hawaii                              170\n",
       "Kermadec Islands region             147\n",
       "Russia                              137\n",
       "Mexico                              135\n",
       "California                          130\n",
       "Puerto Rico                         129\n",
       "MX                                  106\n",
       "Nevada                              102\n",
       "Peru                                 90\n",
       "Pacific-Antarctic Ridge              81\n",
       "Fiji                                 78\n",
       "Idaho                                74\n",
       "southeast of the Loyalty Islands     74\n",
       "south of the Fiji Islands            73\n",
       "Iran                                 72\n",
       "Japan region                         72\n",
       "China                                66\n",
       "Name: region, dtype: int64"
      ]
     },
     "execution_count": 86,
     "metadata": {},
     "output_type": "execute_result"
    }
   ],
   "source": [
    "df.region.value_counts().head(30)"
   ]
  },
  {
   "cell_type": "code",
   "execution_count": 87,
   "metadata": {},
   "outputs": [
    {
     "data": {
      "text/plain": [
       "<AxesSubplot: >"
      ]
     },
     "execution_count": 87,
     "metadata": {},
     "output_type": "execute_result"
    },
    {
     "data": {
      "image/png": "[encoded data removed]",
      "text/plain": [
       "<Figure size 640x480 with 1 Axes>"
      ]
     },
     "metadata": {},
     "output_type": "display_data"
    }
   ],
   "source": [
    "df.region.value_counts().head(30).plot(kind=\"barh\")"
   ]
  },
  {
   "cell_type": "markdown",
   "metadata": {},
   "source": [
    "## 6. Are serious earthquakes common in Turkey? Rerun the previous query, but only look for those with a magnitude of 5 or greater."
   ]
  },
  {
   "cell_type": "code",
   "execution_count": 88,
   "metadata": {},
   "outputs": [
    {
     "data": {
      "text/plain": [
       "Indonesia                           516\n",
       "Papua New Guinea                    366\n",
       "Chile                               270\n",
       "Japan                               267\n",
       "Alaska                              265\n",
       "Tonga                               221\n",
       "South Sandwich Islands region       202\n",
       "Philippines                         197\n",
       "Solomon Islands                     183\n",
       "Vanuatu                             182\n",
       "New Zealand                         169\n",
       "Kermadec Islands region             146\n",
       "Russia                              134\n",
       "Mexico                              132\n",
       "Peru                                 89\n",
       "Pacific-Antarctic Ridge              81\n",
       "Fiji                                 76\n",
       "southeast of the Loyalty Islands     74\n",
       "south of the Fiji Islands            73\n",
       "Japan region                         72\n",
       "Iran                                 71\n",
       "China                                66\n",
       "New Caledonia                        60\n",
       "southern East Pacific Rise           60\n",
       "Greece                               56\n",
       "Taiwan                               55\n",
       "Argentina                            52\n",
       "Fiji region                          50\n",
       "south of the Kermadec Islands        48\n",
       "central Mid-Atlantic Ridge           43\n",
       "Name: region, dtype: int64"
      ]
     },
     "execution_count": 88,
     "metadata": {},
     "output_type": "execute_result"
    }
   ],
   "source": [
    "df[df.magClass >= 5].region.value_counts().head(30)"
   ]
  },
  {
   "cell_type": "code",
   "execution_count": 89,
   "metadata": {},
   "outputs": [
    {
     "data": {
      "text/plain": [
       "<AxesSubplot: >"
      ]
     },
     "execution_count": 89,
     "metadata": {},
     "output_type": "execute_result"
    },
    {
     "data": {
      "image/png": "[encoded data removed]",
      "text/plain": [
       "<Figure size 640x480 with 1 Axes>"
      ]
     },
     "metadata": {},
     "output_type": "display_data"
    }
   ],
   "source": [
    "df[df.magClass >= 5].region.value_counts().head(30).plot(kind=\"barh\")"
   ]
  },
  {
   "cell_type": "markdown",
   "metadata": {},
   "source": [
    "## Bonus: Volcanic eruptions"
   ]
  },
  {
   "cell_type": "code",
   "execution_count": 99,
   "metadata": {},
   "outputs": [
    {
     "data": {
      "text/plain": [
       "Hawaii    17\n",
       "Name: region, dtype: int64"
      ]
     },
     "execution_count": 99,
     "metadata": {},
     "output_type": "execute_result"
    }
   ],
   "source": [
    "df[df.type == \"volcanic eruption\"].region.value_counts()"
   ]
  },
  {
   "cell_type": "code",
   "execution_count": 100,
   "metadata": {},
   "outputs": [
    {
     "data": {
      "text/plain": [
       "DatetimeIndex(['2018-07-24 16:41:10.140000+00:00',\n",
       "               '2018-07-23 06:53:38.820000+00:00',\n",
       "               '2018-07-21 19:43:28.660000+00:00',\n",
       "               '2018-07-20 02:33:01.690000+00:00',\n",
       "               '2018-07-18 11:28:04.040000+00:00',\n",
       "               '2018-07-16 21:42:35.500000+00:00',\n",
       "               '2018-07-03 12:17:03.810000+00:00',\n",
       "               '2018-06-29 17:50:46.270000+00:00',\n",
       "               '2018-06-14 13:19:37.120000+00:00',\n",
       "               '2018-06-13 13:39:37.610000+00:00',\n",
       "               '2018-06-05 14:32:34.450000+00:00',\n",
       "               '2018-06-01 23:37:15.150000+00:00',\n",
       "               '2018-05-29 11:56:11.570000+00:00',\n",
       "               '2018-05-26 10:44:37.620000+00:00',\n",
       "               '2018-05-22 03:51:11.860000+00:00',\n",
       "               '2018-05-20 21:50:07.310000+00:00',\n",
       "               '2018-05-17 04:15:30.350000+00:00'],\n",
       "              dtype='datetime64[ns, UTC]', name='time', freq=None)"
      ]
     },
     "execution_count": 100,
     "metadata": {},
     "output_type": "execute_result"
    }
   ],
   "source": [
    "df[df.type == \"volcanic eruption\"].index"
   ]
  },
  {
   "cell_type": "markdown",
   "metadata": {},
   "source": [
    "## Bonus: Depth analysis"
   ]
  },
  {
   "cell_type": "code",
   "execution_count": 101,
   "metadata": {},
   "outputs": [
    {
     "data": {
      "text/plain": [
       "count    8061.000000\n",
       "mean       49.247573\n",
       "std       107.406031\n",
       "min        -1.920000\n",
       "25%        10.000000\n",
       "50%        11.400000\n",
       "75%        35.000000\n",
       "max       670.810000\n",
       "Name: depth, dtype: float64"
      ]
     },
     "execution_count": 101,
     "metadata": {},
     "output_type": "execute_result"
    }
   ],
   "source": [
    "df.depth.describe()"
   ]
  },
  {
   "cell_type": "code",
   "execution_count": 15,
   "metadata": {},
   "outputs": [
    {
     "data": {
      "text/plain": [
       "[<matplotlib.lines.Line2D at 0x155190e80>]"
      ]
     },
     "execution_count": 15,
     "metadata": {},
     "output_type": "execute_result"
    },
    {
     "data": {
      "image/png": "[encoded data removed]",
      "text/plain": [
       "<Figure size 640x480 with 1 Axes>"
      ]
     },
     "metadata": {},
     "output_type": "display_data"
    }
   ],
   "source": [
    "percentiles = [0, 10, 25, 50, 75, 90, 100]\n",
    "plt.plot(percentiles, np.percentile(df.depth, percentiles))"
   ]
  }
 ],
 "metadata": {
  "kernelspec": {
   "display_name": "base",
   "language": "python",
   "name": "python3"
  },
  "language_info": {
   "codemirror_mode": {
    "name": "ipython",
    "version": 3
   },
   "file_extension": ".py",
   "mimetype": "text/x-python",
   "name": "python",
   "nbconvert_exporter": "python",
   "pygments_lexer": "ipython3",
   "version": "3.9.15"
  },
  "orig_nbformat": 4
 },
 "nbformat": 4,
 "nbformat_minor": 2
}
