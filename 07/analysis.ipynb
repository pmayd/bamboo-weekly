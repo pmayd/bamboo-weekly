{
 "cells": [
  {
   "cell_type": "code",
   "execution_count": 2,
   "metadata": {},
   "outputs": [],
   "source": [
    "import pandas as pd\n",
    "import numpy as np\n",
    "import matplotlib.pyplot as plt\n",
    "import seaborn as sns\n"
   ]
  },
  {
   "cell_type": "markdown",
   "metadata": {},
   "source": [
    "## This week’s topic: Bank failures\n",
    "\n",
    "Decades ago, the US decided to do something about this. They established the FDIC (Federal Deposit Insurance Corporation), which is a sort of bank insurance company. Every bank is required to pay FDIC. In exchange, the FDIC guarantees that anyone with up to $250k in their account will get their money, even if the bank goes insolvent. You, as a bank customers, thus don’t need to worry too much about which bank you’re at; so long as it’s FDIC insured, you’re guaranteed to get your money.\n",
    "\n",
    "Turns out, they were the bank of choice for 50 percent (!) of all venture-backed startups in the US. They were the 16th largest bank in the US (according to the [Federal Reserve](https://www.federalreserve.gov/releases/lbr/current/default.htm)), with about $200b in assets. Ths isn’t a small community bank!\n",
    "\n",
    "As of this writing, the FDIC has taken over SVB. Most interestingly, various parties (the FDIC, Federal Reserve, and US Treasury) have said that everyone will get their money back, not just those with up to $250k in deposits. That was likely a relief to the many startups that had deposited millions and billions of investments in the bank, and which were starting to worry about making payroll.\n",
    "\n",
    "For more background on what happened with SVB, I’ll refer you to the (always amazing) Matt Levine, whose [“Money Stuff” column](https://www.bloomberg.com/opinion/authors/ARbTQlRLRjE/matthew-s-levine) can’t come often enough. I don’t know how he writes so much, and so insightfully, while being so funny — but he does.\n",
    "\n",
    "Also, check out this story from This American Life in 2009, where reporter Chana Jaffe-Walt takes us through the FDIC’s takeover of a bank: https://www.thisamericanlife.org/377/scenes-from-a-recession/act-two-3. It was such a good story that I remembered it from more than a decade ago.\n",
    "\n",
    "### Data\n",
    "\n",
    "Our data this week comes from the FDIC, which offers a complete database describing bank failures at https://banks.data.fdic.gov/docs/. We’re specifically going to look at the bank-failure data, which is at the following page:\n",
    "\n",
    "https://banks.data.fdic.gov/explore/failures?aggReport=detail&displayFields=NAME%2CCERT%2CFIN%2CCITYST%2CFAILDATE%2CSAVR%2CRESTYPE%2CCOST%2CRESTYPE1%2CCHCLASS1%2CQBFDEP%2CQBFASSET&endFailYear=2023&sortField=FAILDATE&sortOrder=desc&startFailYear=1934\n",
    "Once at this URL, you can click on the “download” button. Or you can use the following URL:\n",
    "\n",
    "https://pfabankapi.app.cloud.gov/api/failures?fields=NAME%2CCERT%2CFIN%2CCITYST%2CFAILDATE%2CSAVR%2CRESTYPE%2CCOST%2CRESTYPE1%2CCHCLASS1%2CQBFDEP%2CQBFASSET&filters=FAILYR%3A%5B1934%20TO%202023%5D&limit=10000&react=true&sort_by=FAILDATE&sort_order=desc&subtotal_by=RESTYPE&total_fields=QBFDEP%2CQBFASSET%2CCOST&format=csv&download=true&filename=bank-data\n",
    "\n",
    "(And yes, I’ll admit that some of this data set is about “assistance,” rather than “failures,” but I’m just going to lump them all together under the term “failures” for the purposes of this week’s question and answers.)\n",
    "\n",
    "The data dictionary for the file is at https://banks.data.fdic.gov/explore/failures/help.\n",
    "\n",
    "### Tasks\n",
    "\n",
    "Our questions for this week are:\n",
    "\n",
    "1. According to our document, how many bank failures have there been since the FDIC was opened?\n",
    "1. What was the earliest failure in our data set? What is the most recent failure in our data set?\n",
    "1. In which five years did the greatest number of banks fail?\n",
    "1. In which three states were the greatest number of failed banks?\n",
    "1. What was the average market capitalization of the banks that failed? Given a capitalization of $200b, did that make SVB above, below, or about average?\n",
    "1. When was the most recent failure greater than SVB?\n",
    "1. Bank failures can be resolved in several different ways. How often, historically, have we seen each resolution? Were the odds good that SVB's uninsured depositors would get their money?\n",
    "1. What about bank failures in the last 25 years -- if we just look at those, do the odds change?\n",
    "1. What was the mean estimated loss in bank failures? What proportion of a bank's assets did this generally involve?\n",
    "\n",
    "The learning goals for this week include working with dates and strings. And some insights into whether people were right to panic about losing their money when SVB went under."
   ]
  },
  {
   "cell_type": "code",
   "execution_count": 3,
   "metadata": {},
   "outputs": [],
   "source": [
    "url = \"https://pfabankapi.app.cloud.gov/api/failures?fields=NAME%2CCERT%2CFIN%2CCITYST%2CFAILDATE%2CSAVR%2CRESTYPE%2CCOST%2CRESTYPE1%2CCHCLASS1%2CQBFDEP%2CQBFASSET&filters=FAILYR%3A%5B1934%20TO%202023%5D&limit=10000&react=true&sort_by=FAILDATE&sort_order=desc&subtotal_by=RESTYPE&total_fields=QBFDEP%2CQBFASSET%2CCOST&format=csv&download=true&filename=bank-data\"\n",
    "df = pd.read_csv(url)"
   ]
  },
  {
   "cell_type": "code",
   "execution_count": 4,
   "metadata": {},
   "outputs": [
    {
     "data": {
      "text/html": [
       "<div>\n",
       "<style scoped>\n",
       "    .dataframe tbody tr th:only-of-type {\n",
       "        vertical-align: middle;\n",
       "    }\n",
       "\n",
       "    .dataframe tbody tr th {\n",
       "        vertical-align: top;\n",
       "    }\n",
       "\n",
       "    .dataframe thead th {\n",
       "        text-align: right;\n",
       "    }\n",
       "</style>\n",
       "<table border=\"1\" class=\"dataframe\">\n",
       "  <thead>\n",
       "    <tr style=\"text-align: right;\">\n",
       "      <th></th>\n",
       "      <th>CERT</th>\n",
       "      <th>CHCLASS1</th>\n",
       "      <th>CITYST</th>\n",
       "      <th>COST</th>\n",
       "      <th>FAILDATE</th>\n",
       "      <th>FIN</th>\n",
       "      <th>ID</th>\n",
       "      <th>NAME</th>\n",
       "      <th>QBFASSET</th>\n",
       "      <th>QBFDEP</th>\n",
       "      <th>RESTYPE</th>\n",
       "      <th>RESTYPE1</th>\n",
       "      <th>SAVR</th>\n",
       "    </tr>\n",
       "  </thead>\n",
       "  <tbody>\n",
       "    <tr>\n",
       "      <th>0</th>\n",
       "      <td>8758.0</td>\n",
       "      <td>NM</td>\n",
       "      <td>SAC CITY, IA</td>\n",
       "      <td>14804.0</td>\n",
       "      <td>11/3/2023</td>\n",
       "      <td>10545</td>\n",
       "      <td>4109</td>\n",
       "      <td>CITIZENS BANK</td>\n",
       "      <td>60448.0</td>\n",
       "      <td>52311.0</td>\n",
       "      <td>FAILURE</td>\n",
       "      <td>PA</td>\n",
       "      <td>DIF</td>\n",
       "    </tr>\n",
       "    <tr>\n",
       "      <th>1</th>\n",
       "      <td>25851.0</td>\n",
       "      <td>SM</td>\n",
       "      <td>ELKHART, KS</td>\n",
       "      <td>54167.0</td>\n",
       "      <td>7/28/2023</td>\n",
       "      <td>10544</td>\n",
       "      <td>4108</td>\n",
       "      <td>HEARTLAND TRI-STATE BANK</td>\n",
       "      <td>139446.0</td>\n",
       "      <td>130110.0</td>\n",
       "      <td>FAILURE</td>\n",
       "      <td>PA</td>\n",
       "      <td>DIF</td>\n",
       "    </tr>\n",
       "    <tr>\n",
       "      <th>2</th>\n",
       "      <td>59017.0</td>\n",
       "      <td>NM</td>\n",
       "      <td>SAN FRANCISCO, CA</td>\n",
       "      <td>16521935.0</td>\n",
       "      <td>5/1/2023</td>\n",
       "      <td>10543</td>\n",
       "      <td>4107</td>\n",
       "      <td>FIRST REPUBLIC BANK</td>\n",
       "      <td>212638872.0</td>\n",
       "      <td>176436706.0</td>\n",
       "      <td>FAILURE</td>\n",
       "      <td>PA</td>\n",
       "      <td>DIF</td>\n",
       "    </tr>\n",
       "    <tr>\n",
       "      <th>3</th>\n",
       "      <td>57053.0</td>\n",
       "      <td>NM</td>\n",
       "      <td>NEW YORK, NY</td>\n",
       "      <td>884248.0</td>\n",
       "      <td>3/12/2023</td>\n",
       "      <td>10540</td>\n",
       "      <td>4106</td>\n",
       "      <td>SIGNATURE BANK</td>\n",
       "      <td>110363650.0</td>\n",
       "      <td>88612911.0</td>\n",
       "      <td>FAILURE</td>\n",
       "      <td>PA</td>\n",
       "      <td>DIF</td>\n",
       "    </tr>\n",
       "    <tr>\n",
       "      <th>4</th>\n",
       "      <td>24735.0</td>\n",
       "      <td>SM</td>\n",
       "      <td>SANTA CLARA, CA</td>\n",
       "      <td>17820026.0</td>\n",
       "      <td>3/7/2023</td>\n",
       "      <td>10539</td>\n",
       "      <td>4105</td>\n",
       "      <td>SILICON VALLEY BANK</td>\n",
       "      <td>209026000.0</td>\n",
       "      <td>175378000.0</td>\n",
       "      <td>FAILURE</td>\n",
       "      <td>PA</td>\n",
       "      <td>DIF</td>\n",
       "    </tr>\n",
       "  </tbody>\n",
       "</table>\n",
       "</div>"
      ],
      "text/plain": [
       "      CERT CHCLASS1             CITYST        COST   FAILDATE    FIN    ID  \\\n",
       "0   8758.0       NM       SAC CITY, IA     14804.0  11/3/2023  10545  4109   \n",
       "1  25851.0       SM        ELKHART, KS     54167.0  7/28/2023  10544  4108   \n",
       "2  59017.0       NM  SAN FRANCISCO, CA  16521935.0   5/1/2023  10543  4107   \n",
       "3  57053.0       NM       NEW YORK, NY    884248.0  3/12/2023  10540  4106   \n",
       "4  24735.0       SM    SANTA CLARA, CA  17820026.0   3/7/2023  10539  4105   \n",
       "\n",
       "                       NAME     QBFASSET       QBFDEP  RESTYPE RESTYPE1 SAVR  \n",
       "0             CITIZENS BANK      60448.0      52311.0  FAILURE       PA  DIF  \n",
       "1  HEARTLAND TRI-STATE BANK     139446.0     130110.0  FAILURE       PA  DIF  \n",
       "2       FIRST REPUBLIC BANK  212638872.0  176436706.0  FAILURE       PA  DIF  \n",
       "3            SIGNATURE BANK  110363650.0   88612911.0  FAILURE       PA  DIF  \n",
       "4       SILICON VALLEY BANK  209026000.0  175378000.0  FAILURE       PA  DIF  "
      ]
     },
     "execution_count": 4,
     "metadata": {},
     "output_type": "execute_result"
    }
   ],
   "source": [
    "df.head()"
   ]
  },
  {
   "cell_type": "code",
   "execution_count": 5,
   "metadata": {},
   "outputs": [
    {
     "name": "stdout",
     "output_type": "stream",
     "text": [
      "<class 'pandas.core.frame.DataFrame'>\n",
      "RangeIndex: 4109 entries, 0 to 4108\n",
      "Data columns (total 13 columns):\n",
      " #   Column    Non-Null Count  Dtype  \n",
      "---  ------    --------------  -----  \n",
      " 0   CERT      3621 non-null   float64\n",
      " 1   CHCLASS1  4109 non-null   object \n",
      " 2   CITYST    4109 non-null   object \n",
      " 3   COST      3472 non-null   float64\n",
      " 4   FAILDATE  4109 non-null   object \n",
      " 5   FIN       4109 non-null   int64  \n",
      " 6   ID        4109 non-null   int64  \n",
      " 7   NAME      4109 non-null   object \n",
      " 8   QBFASSET  3955 non-null   float64\n",
      " 9   QBFDEP    4107 non-null   float64\n",
      " 10  RESTYPE   4109 non-null   object \n",
      " 11  RESTYPE1  4109 non-null   object \n",
      " 12  SAVR      4109 non-null   object \n",
      "dtypes: float64(4), int64(2), object(7)\n",
      "memory usage: 417.4+ KB\n"
     ]
    }
   ],
   "source": [
    "df.info()"
   ]
  },
  {
   "cell_type": "code",
   "execution_count": 6,
   "metadata": {},
   "outputs": [],
   "source": [
    "df[\"FAILDATE\"] = pd.to_datetime(df[\"FAILDATE\"])"
   ]
  },
  {
   "cell_type": "code",
   "execution_count": 7,
   "metadata": {},
   "outputs": [
    {
     "data": {
      "text/html": [
       "<div>\n",
       "<style scoped>\n",
       "    .dataframe tbody tr th:only-of-type {\n",
       "        vertical-align: middle;\n",
       "    }\n",
       "\n",
       "    .dataframe tbody tr th {\n",
       "        vertical-align: top;\n",
       "    }\n",
       "\n",
       "    .dataframe thead th {\n",
       "        text-align: right;\n",
       "    }\n",
       "</style>\n",
       "<table border=\"1\" class=\"dataframe\">\n",
       "  <thead>\n",
       "    <tr style=\"text-align: right;\">\n",
       "      <th></th>\n",
       "      <th>CERT</th>\n",
       "      <th>CHCLASS1</th>\n",
       "      <th>CITYST</th>\n",
       "      <th>COST</th>\n",
       "      <th>FAILDATE</th>\n",
       "      <th>FIN</th>\n",
       "      <th>ID</th>\n",
       "      <th>NAME</th>\n",
       "      <th>QBFASSET</th>\n",
       "      <th>QBFDEP</th>\n",
       "      <th>RESTYPE</th>\n",
       "      <th>RESTYPE1</th>\n",
       "      <th>SAVR</th>\n",
       "    </tr>\n",
       "  </thead>\n",
       "  <tbody>\n",
       "    <tr>\n",
       "      <th>0</th>\n",
       "      <td>8758.0</td>\n",
       "      <td>NM</td>\n",
       "      <td>SAC CITY, IA</td>\n",
       "      <td>14804.0</td>\n",
       "      <td>2023-11-03</td>\n",
       "      <td>10545</td>\n",
       "      <td>4109</td>\n",
       "      <td>CITIZENS BANK</td>\n",
       "      <td>60448.0</td>\n",
       "      <td>52311.0</td>\n",
       "      <td>FAILURE</td>\n",
       "      <td>PA</td>\n",
       "      <td>DIF</td>\n",
       "    </tr>\n",
       "    <tr>\n",
       "      <th>1</th>\n",
       "      <td>25851.0</td>\n",
       "      <td>SM</td>\n",
       "      <td>ELKHART, KS</td>\n",
       "      <td>54167.0</td>\n",
       "      <td>2023-07-28</td>\n",
       "      <td>10544</td>\n",
       "      <td>4108</td>\n",
       "      <td>HEARTLAND TRI-STATE BANK</td>\n",
       "      <td>139446.0</td>\n",
       "      <td>130110.0</td>\n",
       "      <td>FAILURE</td>\n",
       "      <td>PA</td>\n",
       "      <td>DIF</td>\n",
       "    </tr>\n",
       "    <tr>\n",
       "      <th>2</th>\n",
       "      <td>59017.0</td>\n",
       "      <td>NM</td>\n",
       "      <td>SAN FRANCISCO, CA</td>\n",
       "      <td>16521935.0</td>\n",
       "      <td>2023-05-01</td>\n",
       "      <td>10543</td>\n",
       "      <td>4107</td>\n",
       "      <td>FIRST REPUBLIC BANK</td>\n",
       "      <td>212638872.0</td>\n",
       "      <td>176436706.0</td>\n",
       "      <td>FAILURE</td>\n",
       "      <td>PA</td>\n",
       "      <td>DIF</td>\n",
       "    </tr>\n",
       "    <tr>\n",
       "      <th>3</th>\n",
       "      <td>57053.0</td>\n",
       "      <td>NM</td>\n",
       "      <td>NEW YORK, NY</td>\n",
       "      <td>884248.0</td>\n",
       "      <td>2023-03-12</td>\n",
       "      <td>10540</td>\n",
       "      <td>4106</td>\n",
       "      <td>SIGNATURE BANK</td>\n",
       "      <td>110363650.0</td>\n",
       "      <td>88612911.0</td>\n",
       "      <td>FAILURE</td>\n",
       "      <td>PA</td>\n",
       "      <td>DIF</td>\n",
       "    </tr>\n",
       "    <tr>\n",
       "      <th>4</th>\n",
       "      <td>24735.0</td>\n",
       "      <td>SM</td>\n",
       "      <td>SANTA CLARA, CA</td>\n",
       "      <td>17820026.0</td>\n",
       "      <td>2023-03-07</td>\n",
       "      <td>10539</td>\n",
       "      <td>4105</td>\n",
       "      <td>SILICON VALLEY BANK</td>\n",
       "      <td>209026000.0</td>\n",
       "      <td>175378000.0</td>\n",
       "      <td>FAILURE</td>\n",
       "      <td>PA</td>\n",
       "      <td>DIF</td>\n",
       "    </tr>\n",
       "  </tbody>\n",
       "</table>\n",
       "</div>"
      ],
      "text/plain": [
       "      CERT CHCLASS1             CITYST        COST   FAILDATE    FIN    ID  \\\n",
       "0   8758.0       NM       SAC CITY, IA     14804.0 2023-11-03  10545  4109   \n",
       "1  25851.0       SM        ELKHART, KS     54167.0 2023-07-28  10544  4108   \n",
       "2  59017.0       NM  SAN FRANCISCO, CA  16521935.0 2023-05-01  10543  4107   \n",
       "3  57053.0       NM       NEW YORK, NY    884248.0 2023-03-12  10540  4106   \n",
       "4  24735.0       SM    SANTA CLARA, CA  17820026.0 2023-03-07  10539  4105   \n",
       "\n",
       "                       NAME     QBFASSET       QBFDEP  RESTYPE RESTYPE1 SAVR  \n",
       "0             CITIZENS BANK      60448.0      52311.0  FAILURE       PA  DIF  \n",
       "1  HEARTLAND TRI-STATE BANK     139446.0     130110.0  FAILURE       PA  DIF  \n",
       "2       FIRST REPUBLIC BANK  212638872.0  176436706.0  FAILURE       PA  DIF  \n",
       "3            SIGNATURE BANK  110363650.0   88612911.0  FAILURE       PA  DIF  \n",
       "4       SILICON VALLEY BANK  209026000.0  175378000.0  FAILURE       PA  DIF  "
      ]
     },
     "execution_count": 7,
     "metadata": {},
     "output_type": "execute_result"
    }
   ],
   "source": [
    "df.head()"
   ]
  },
  {
   "cell_type": "markdown",
   "metadata": {},
   "source": [
    "#### 1. According to our document, how many bank failures have there been since the FDIC was opened?"
   ]
  },
  {
   "cell_type": "code",
   "execution_count": 8,
   "metadata": {},
   "outputs": [
    {
     "data": {
      "text/plain": [
       "RESTYPE\n",
       "FAILURE       3516\n",
       "ASSISTANCE     593\n",
       "Name: count, dtype: int64"
      ]
     },
     "execution_count": 8,
     "metadata": {},
     "output_type": "execute_result"
    }
   ],
   "source": [
    "df[\"RESTYPE\"].value_counts()"
   ]
  },
  {
   "cell_type": "code",
   "execution_count": 9,
   "metadata": {},
   "outputs": [
    {
     "data": {
      "text/plain": [
       "(4109, 13)"
      ]
     },
     "execution_count": 9,
     "metadata": {},
     "output_type": "execute_result"
    }
   ],
   "source": [
    "df.shape"
   ]
  },
  {
   "cell_type": "code",
   "execution_count": 10,
   "metadata": {},
   "outputs": [
    {
     "data": {
      "text/plain": [
       "4109"
      ]
     },
     "execution_count": 10,
     "metadata": {},
     "output_type": "execute_result"
    }
   ],
   "source": [
    "len(df)"
   ]
  },
  {
   "cell_type": "code",
   "execution_count": 11,
   "metadata": {},
   "outputs": [
    {
     "data": {
      "text/plain": [
       "CERT        3621\n",
       "CHCLASS1    4109\n",
       "CITYST      4109\n",
       "COST        3472\n",
       "FAILDATE    4109\n",
       "FIN         4109\n",
       "ID          4109\n",
       "NAME        4109\n",
       "QBFASSET    3955\n",
       "QBFDEP      4107\n",
       "RESTYPE     4109\n",
       "RESTYPE1    4109\n",
       "SAVR        4109\n",
       "dtype: int64"
      ]
     },
     "execution_count": 11,
     "metadata": {},
     "output_type": "execute_result"
    }
   ],
   "source": [
    "df.count()"
   ]
  },
  {
   "cell_type": "markdown",
   "metadata": {},
   "source": [
    "#### 2. What was the earliest failure in our data set? What is the most recent failure in our data set?"
   ]
  },
  {
   "cell_type": "code",
   "execution_count": 12,
   "metadata": {},
   "outputs": [
    {
     "data": {
      "text/plain": [
       "4108   1934-04-19\n",
       "Name: FAILDATE, dtype: datetime64[ns]"
      ]
     },
     "execution_count": 12,
     "metadata": {},
     "output_type": "execute_result"
    }
   ],
   "source": [
    "df[\"FAILDATE\"].sort_values().head(1)"
   ]
  },
  {
   "cell_type": "code",
   "execution_count": 13,
   "metadata": {},
   "outputs": [
    {
     "data": {
      "text/plain": [
       "Timestamp('1934-04-19 00:00:00')"
      ]
     },
     "execution_count": 13,
     "metadata": {},
     "output_type": "execute_result"
    }
   ],
   "source": [
    "df[\"FAILDATE\"].min()"
   ]
  },
  {
   "cell_type": "code",
   "execution_count": 14,
   "metadata": {},
   "outputs": [
    {
     "data": {
      "text/plain": [
       "0   2023-11-03\n",
       "Name: FAILDATE, dtype: datetime64[ns]"
      ]
     },
     "execution_count": 14,
     "metadata": {},
     "output_type": "execute_result"
    }
   ],
   "source": [
    "df[\"FAILDATE\"].sort_values().tail(1)"
   ]
  },
  {
   "cell_type": "code",
   "execution_count": 15,
   "metadata": {},
   "outputs": [
    {
     "data": {
      "text/plain": [
       "Timestamp('2023-11-03 00:00:00')"
      ]
     },
     "execution_count": 15,
     "metadata": {},
     "output_type": "execute_result"
    }
   ],
   "source": [
    "df[\"FAILDATE\"].max()"
   ]
  },
  {
   "cell_type": "code",
   "execution_count": 16,
   "metadata": {},
   "outputs": [
    {
     "data": {
      "text/plain": [
       "min   1934-04-19\n",
       "max   2023-11-03\n",
       "Name: FAILDATE, dtype: datetime64[ns]"
      ]
     },
     "execution_count": 16,
     "metadata": {},
     "output_type": "execute_result"
    }
   ],
   "source": [
    "df[\"FAILDATE\"].agg([\"min\", \"max\"])"
   ]
  },
  {
   "cell_type": "code",
   "execution_count": 17,
   "metadata": {},
   "outputs": [
    {
     "data": {
      "text/plain": [
       "count                             4109\n",
       "mean     1985-12-28 03:27:06.965198336\n",
       "min                1934-04-19 00:00:00\n",
       "25%                1985-07-11 00:00:00\n",
       "50%                1988-12-30 00:00:00\n",
       "75%                1991-05-03 00:00:00\n",
       "max                2023-11-03 00:00:00\n",
       "Name: FAILDATE, dtype: object"
      ]
     },
     "execution_count": 17,
     "metadata": {},
     "output_type": "execute_result"
    }
   ],
   "source": [
    "df[\"FAILDATE\"].describe()"
   ]
  },
  {
   "cell_type": "markdown",
   "metadata": {},
   "source": [
    "#### 3. In which five years did the greatest number of banks fail?"
   ]
  },
  {
   "cell_type": "code",
   "execution_count": 18,
   "metadata": {},
   "outputs": [
    {
     "data": {
      "text/plain": [
       "FAILDATE\n",
       "1989    534\n",
       "1988    470\n",
       "1990    382\n",
       "1991    271\n",
       "1987    262\n",
       "Name: count, dtype: int64"
      ]
     },
     "execution_count": 18,
     "metadata": {},
     "output_type": "execute_result"
    }
   ],
   "source": [
    "df[\"FAILDATE\"].dt.year.value_counts().head(5)"
   ]
  },
  {
   "cell_type": "code",
   "execution_count": 19,
   "metadata": {},
   "outputs": [
    {
     "data": {
      "text/plain": [
       "FAILDATE\n",
       "1989    534\n",
       "1988    470\n",
       "1990    382\n",
       "1991    271\n",
       "1987    262\n",
       "Name: NAME, dtype: int64"
      ]
     },
     "execution_count": 19,
     "metadata": {},
     "output_type": "execute_result"
    }
   ],
   "source": [
    "df.groupby(df[\"FAILDATE\"].dt.year)[\"NAME\"].count().sort_values(ascending=False).head(5)"
   ]
  },
  {
   "cell_type": "markdown",
   "metadata": {},
   "source": [
    "#### 4. In which three states were the greatest number of failed banks?"
   ]
  },
  {
   "cell_type": "code",
   "execution_count": 20,
   "metadata": {},
   "outputs": [
    {
     "data": {
      "text/plain": [
       "CITYST\n",
       "HOUSTON, TX        105\n",
       "DALLAS, TX          64\n",
       "CHICAGO, IL         51\n",
       "SAN ANTONIO, TX     45\n",
       "AUSTIN, TX          43\n",
       "Name: count, dtype: int64"
      ]
     },
     "execution_count": 20,
     "metadata": {},
     "output_type": "execute_result"
    }
   ],
   "source": [
    "df[\"CITYST\"].value_counts().head(5)"
   ]
  },
  {
   "cell_type": "markdown",
   "metadata": {},
   "source": [
    "Because CITYST contains a city name and the state, we have to extract the state first to answer the question"
   ]
  },
  {
   "cell_type": "code",
   "execution_count": 21,
   "metadata": {},
   "outputs": [],
   "source": [
    "df[\"ST\"] = df[\"CITYST\"].str.split(\", \", expand=True)[1]"
   ]
  },
  {
   "cell_type": "code",
   "execution_count": 22,
   "metadata": {},
   "outputs": [],
   "source": [
    "df[\"ST\"] = df[\"CITYST\"].str.slice(-2, None)"
   ]
  },
  {
   "cell_type": "code",
   "execution_count": 23,
   "metadata": {},
   "outputs": [
    {
     "data": {
      "text/html": [
       "<div>\n",
       "<style scoped>\n",
       "    .dataframe tbody tr th:only-of-type {\n",
       "        vertical-align: middle;\n",
       "    }\n",
       "\n",
       "    .dataframe tbody tr th {\n",
       "        vertical-align: top;\n",
       "    }\n",
       "\n",
       "    .dataframe thead th {\n",
       "        text-align: right;\n",
       "    }\n",
       "</style>\n",
       "<table border=\"1\" class=\"dataframe\">\n",
       "  <thead>\n",
       "    <tr style=\"text-align: right;\">\n",
       "      <th></th>\n",
       "      <th>CERT</th>\n",
       "      <th>CHCLASS1</th>\n",
       "      <th>CITYST</th>\n",
       "      <th>COST</th>\n",
       "      <th>FAILDATE</th>\n",
       "      <th>FIN</th>\n",
       "      <th>ID</th>\n",
       "      <th>NAME</th>\n",
       "      <th>QBFASSET</th>\n",
       "      <th>QBFDEP</th>\n",
       "      <th>RESTYPE</th>\n",
       "      <th>RESTYPE1</th>\n",
       "      <th>SAVR</th>\n",
       "      <th>ST</th>\n",
       "    </tr>\n",
       "  </thead>\n",
       "  <tbody>\n",
       "    <tr>\n",
       "      <th>0</th>\n",
       "      <td>8758.0</td>\n",
       "      <td>NM</td>\n",
       "      <td>SAC CITY, IA</td>\n",
       "      <td>14804.0</td>\n",
       "      <td>2023-11-03</td>\n",
       "      <td>10545</td>\n",
       "      <td>4109</td>\n",
       "      <td>CITIZENS BANK</td>\n",
       "      <td>60448.0</td>\n",
       "      <td>52311.0</td>\n",
       "      <td>FAILURE</td>\n",
       "      <td>PA</td>\n",
       "      <td>DIF</td>\n",
       "      <td>IA</td>\n",
       "    </tr>\n",
       "    <tr>\n",
       "      <th>1</th>\n",
       "      <td>25851.0</td>\n",
       "      <td>SM</td>\n",
       "      <td>ELKHART, KS</td>\n",
       "      <td>54167.0</td>\n",
       "      <td>2023-07-28</td>\n",
       "      <td>10544</td>\n",
       "      <td>4108</td>\n",
       "      <td>HEARTLAND TRI-STATE BANK</td>\n",
       "      <td>139446.0</td>\n",
       "      <td>130110.0</td>\n",
       "      <td>FAILURE</td>\n",
       "      <td>PA</td>\n",
       "      <td>DIF</td>\n",
       "      <td>KS</td>\n",
       "    </tr>\n",
       "    <tr>\n",
       "      <th>2</th>\n",
       "      <td>59017.0</td>\n",
       "      <td>NM</td>\n",
       "      <td>SAN FRANCISCO, CA</td>\n",
       "      <td>16521935.0</td>\n",
       "      <td>2023-05-01</td>\n",
       "      <td>10543</td>\n",
       "      <td>4107</td>\n",
       "      <td>FIRST REPUBLIC BANK</td>\n",
       "      <td>212638872.0</td>\n",
       "      <td>176436706.0</td>\n",
       "      <td>FAILURE</td>\n",
       "      <td>PA</td>\n",
       "      <td>DIF</td>\n",
       "      <td>CA</td>\n",
       "    </tr>\n",
       "    <tr>\n",
       "      <th>3</th>\n",
       "      <td>57053.0</td>\n",
       "      <td>NM</td>\n",
       "      <td>NEW YORK, NY</td>\n",
       "      <td>884248.0</td>\n",
       "      <td>2023-03-12</td>\n",
       "      <td>10540</td>\n",
       "      <td>4106</td>\n",
       "      <td>SIGNATURE BANK</td>\n",
       "      <td>110363650.0</td>\n",
       "      <td>88612911.0</td>\n",
       "      <td>FAILURE</td>\n",
       "      <td>PA</td>\n",
       "      <td>DIF</td>\n",
       "      <td>NY</td>\n",
       "    </tr>\n",
       "    <tr>\n",
       "      <th>4</th>\n",
       "      <td>24735.0</td>\n",
       "      <td>SM</td>\n",
       "      <td>SANTA CLARA, CA</td>\n",
       "      <td>17820026.0</td>\n",
       "      <td>2023-03-07</td>\n",
       "      <td>10539</td>\n",
       "      <td>4105</td>\n",
       "      <td>SILICON VALLEY BANK</td>\n",
       "      <td>209026000.0</td>\n",
       "      <td>175378000.0</td>\n",
       "      <td>FAILURE</td>\n",
       "      <td>PA</td>\n",
       "      <td>DIF</td>\n",
       "      <td>CA</td>\n",
       "    </tr>\n",
       "  </tbody>\n",
       "</table>\n",
       "</div>"
      ],
      "text/plain": [
       "      CERT CHCLASS1             CITYST        COST   FAILDATE    FIN    ID  \\\n",
       "0   8758.0       NM       SAC CITY, IA     14804.0 2023-11-03  10545  4109   \n",
       "1  25851.0       SM        ELKHART, KS     54167.0 2023-07-28  10544  4108   \n",
       "2  59017.0       NM  SAN FRANCISCO, CA  16521935.0 2023-05-01  10543  4107   \n",
       "3  57053.0       NM       NEW YORK, NY    884248.0 2023-03-12  10540  4106   \n",
       "4  24735.0       SM    SANTA CLARA, CA  17820026.0 2023-03-07  10539  4105   \n",
       "\n",
       "                       NAME     QBFASSET       QBFDEP  RESTYPE RESTYPE1 SAVR  \\\n",
       "0             CITIZENS BANK      60448.0      52311.0  FAILURE       PA  DIF   \n",
       "1  HEARTLAND TRI-STATE BANK     139446.0     130110.0  FAILURE       PA  DIF   \n",
       "2       FIRST REPUBLIC BANK  212638872.0  176436706.0  FAILURE       PA  DIF   \n",
       "3            SIGNATURE BANK  110363650.0   88612911.0  FAILURE       PA  DIF   \n",
       "4       SILICON VALLEY BANK  209026000.0  175378000.0  FAILURE       PA  DIF   \n",
       "\n",
       "   ST  \n",
       "0  IA  \n",
       "1  KS  \n",
       "2  CA  \n",
       "3  NY  \n",
       "4  CA  "
      ]
     },
     "execution_count": 23,
     "metadata": {},
     "output_type": "execute_result"
    }
   ],
   "source": [
    "df.head()"
   ]
  },
  {
   "cell_type": "code",
   "execution_count": 24,
   "metadata": {},
   "outputs": [
    {
     "data": {
      "text/plain": [
       "ST\n",
       "TX    910\n",
       "CA    265\n",
       "IL    227\n",
       "FL    199\n",
       "OK    182\n",
       "Name: count, dtype: int64"
      ]
     },
     "execution_count": 24,
     "metadata": {},
     "output_type": "execute_result"
    }
   ],
   "source": [
    "df[\"ST\"].value_counts().head(5) "
   ]
  },
  {
   "cell_type": "markdown",
   "metadata": {},
   "source": [
    "#### 5. What was the average market capitalization of the banks that failed? Given a capitalization of $200b, did that make SVB above, below, or about average?"
   ]
  },
  {
   "cell_type": "markdown",
   "metadata": {},
   "source": [
    "Numbers represent thousands of US Dollars"
   ]
  },
  {
   "cell_type": "code",
   "execution_count": 25,
   "metadata": {},
   "outputs": [
    {
     "data": {
      "text/plain": [
       "<Axes: ylabel='Frequency'>"
      ]
     },
     "execution_count": 25,
     "metadata": {},
     "output_type": "execute_result"
    },
    {
     "data": {
      "image/png": "[encoded data removed]",
      "text/plain": [
       "<Figure size 640x480 with 1 Axes>"
      ]
     },
     "metadata": {},
     "output_type": "display_data"
    }
   ],
   "source": [
    "df[\"QBFASSET\"].plot.hist()"
   ]
  },
  {
   "cell_type": "code",
   "execution_count": 39,
   "metadata": {},
   "outputs": [
    {
     "data": {
      "text/plain": [
       "<matplotlib.legend.Legend at 0x14109a110>"
      ]
     },
     "execution_count": 39,
     "metadata": {},
     "output_type": "execute_result"
    },
    {
     "data": {
      "image/png": "[encoded data removed]",
      "text/plain": [
       "<Figure size 640x480 with 1 Axes>"
      ]
     },
     "metadata": {},
     "output_type": "display_data"
    }
   ],
   "source": [
    "df[df[\"QBFASSET\"] < df[\"QBFASSET\"].quantile(.90)][\"QBFASSET\"].plot.hist(bins=100)\n",
    "plt.axvline(df[\"QBFASSET\"].mean(), color=\"red\", linestyle=\"--\", label=\"Mean\")\n",
    "plt.axvline(df[\"QBFASSET\"].median(), color=\"green\", linestyle=\"--\", label=\"Median\")\n",
    "plt.axvline(df[\"QBFASSET\"].quantile(.90), color=\"blue\", linestyle=\"--\", label=\"90th Percentile\")\n",
    "plt.legend()"
   ]
  },
  {
   "cell_type": "code",
   "execution_count": 49,
   "metadata": {},
   "outputs": [
    {
     "data": {
      "image/png": "[encoded data removed]",
      "text/plain": [
       "<Figure size 640x480 with 1 Axes>"
      ]
     },
     "metadata": {},
     "output_type": "display_data"
    }
   ],
   "source": [
    "sns.boxplot(df[\"QBFASSET\"], showmeans=True, showfliers=False)\n",
    "plt.yscale(\"log\")"
   ]
  },
  {
   "cell_type": "code",
   "execution_count": 57,
   "metadata": {},
   "outputs": [
    {
     "data": {
      "image/png": "[encoded data removed]",
      "text/plain": [
       "<Figure size 640x480 with 1 Axes>"
      ]
     },
     "metadata": {},
     "output_type": "display_data"
    }
   ],
   "source": [
    "sns.boxplot(df[\"QBFASSET\"], showmeans=True, showfliers=True, fliersize=1)\n",
    "plt.yscale(\"log\")"
   ]
  },
  {
   "cell_type": "code",
   "execution_count": 58,
   "metadata": {},
   "outputs": [
    {
     "data": {
      "text/plain": [
       "1366147.8725663717"
      ]
     },
     "execution_count": 58,
     "metadata": {},
     "output_type": "execute_result"
    }
   ],
   "source": [
    "df[\"QBFASSET\"].mean()"
   ]
  },
  {
   "cell_type": "code",
   "execution_count": 62,
   "metadata": {},
   "outputs": [
    {
     "data": {
      "text/html": [
       "<div>\n",
       "<style scoped>\n",
       "    .dataframe tbody tr th:only-of-type {\n",
       "        vertical-align: middle;\n",
       "    }\n",
       "\n",
       "    .dataframe tbody tr th {\n",
       "        vertical-align: top;\n",
       "    }\n",
       "\n",
       "    .dataframe thead th {\n",
       "        text-align: right;\n",
       "    }\n",
       "</style>\n",
       "<table border=\"1\" class=\"dataframe\">\n",
       "  <thead>\n",
       "    <tr style=\"text-align: right;\">\n",
       "      <th></th>\n",
       "      <th>CERT</th>\n",
       "      <th>CHCLASS1</th>\n",
       "      <th>CITYST</th>\n",
       "      <th>COST</th>\n",
       "      <th>FAILDATE</th>\n",
       "      <th>FIN</th>\n",
       "      <th>ID</th>\n",
       "      <th>NAME</th>\n",
       "      <th>QBFASSET</th>\n",
       "      <th>QBFDEP</th>\n",
       "      <th>RESTYPE</th>\n",
       "      <th>RESTYPE1</th>\n",
       "      <th>SAVR</th>\n",
       "      <th>ST</th>\n",
       "    </tr>\n",
       "  </thead>\n",
       "  <tbody>\n",
       "    <tr>\n",
       "      <th>4</th>\n",
       "      <td>24735.0</td>\n",
       "      <td>SM</td>\n",
       "      <td>SANTA CLARA, CA</td>\n",
       "      <td>17820026.0</td>\n",
       "      <td>2023-03-07</td>\n",
       "      <td>10539</td>\n",
       "      <td>4105</td>\n",
       "      <td>SILICON VALLEY BANK</td>\n",
       "      <td>209026000.0</td>\n",
       "      <td>175378000.0</td>\n",
       "      <td>FAILURE</td>\n",
       "      <td>PA</td>\n",
       "      <td>DIF</td>\n",
       "      <td>CA</td>\n",
       "    </tr>\n",
       "  </tbody>\n",
       "</table>\n",
       "</div>"
      ],
      "text/plain": [
       "      CERT CHCLASS1           CITYST        COST   FAILDATE    FIN    ID  \\\n",
       "4  24735.0       SM  SANTA CLARA, CA  17820026.0 2023-03-07  10539  4105   \n",
       "\n",
       "                  NAME     QBFASSET       QBFDEP  RESTYPE RESTYPE1 SAVR  ST  \n",
       "4  SILICON VALLEY BANK  209026000.0  175378000.0  FAILURE       PA  DIF  CA  "
      ]
     },
     "execution_count": 62,
     "metadata": {},
     "output_type": "execute_result"
    }
   ],
   "source": [
    "df[df[\"NAME\"] == \"SILICON VALLEY BANK\"] # SVB"
   ]
  },
  {
   "cell_type": "code",
   "execution_count": 60,
   "metadata": {},
   "outputs": [
    {
     "data": {
      "text/html": [
       "<div>\n",
       "<style scoped>\n",
       "    .dataframe tbody tr th:only-of-type {\n",
       "        vertical-align: middle;\n",
       "    }\n",
       "\n",
       "    .dataframe tbody tr th {\n",
       "        vertical-align: top;\n",
       "    }\n",
       "\n",
       "    .dataframe thead th {\n",
       "        text-align: right;\n",
       "    }\n",
       "</style>\n",
       "<table border=\"1\" class=\"dataframe\">\n",
       "  <thead>\n",
       "    <tr style=\"text-align: right;\">\n",
       "      <th></th>\n",
       "      <th>CERT</th>\n",
       "      <th>CHCLASS1</th>\n",
       "      <th>CITYST</th>\n",
       "      <th>COST</th>\n",
       "      <th>FAILDATE</th>\n",
       "      <th>FIN</th>\n",
       "      <th>ID</th>\n",
       "      <th>NAME</th>\n",
       "      <th>QBFASSET</th>\n",
       "      <th>QBFDEP</th>\n",
       "      <th>RESTYPE</th>\n",
       "      <th>RESTYPE1</th>\n",
       "      <th>SAVR</th>\n",
       "      <th>ST</th>\n",
       "    </tr>\n",
       "  </thead>\n",
       "  <tbody>\n",
       "    <tr>\n",
       "      <th>2</th>\n",
       "      <td>59017.0</td>\n",
       "      <td>NM</td>\n",
       "      <td>SAN FRANCISCO, CA</td>\n",
       "      <td>16521935.0</td>\n",
       "      <td>2023-05-01</td>\n",
       "      <td>10543</td>\n",
       "      <td>4107</td>\n",
       "      <td>FIRST REPUBLIC BANK</td>\n",
       "      <td>2.126389e+08</td>\n",
       "      <td>176436706.0</td>\n",
       "      <td>FAILURE</td>\n",
       "      <td>PA</td>\n",
       "      <td>DIF</td>\n",
       "      <td>CA</td>\n",
       "    </tr>\n",
       "    <tr>\n",
       "      <th>4</th>\n",
       "      <td>24735.0</td>\n",
       "      <td>SM</td>\n",
       "      <td>SANTA CLARA, CA</td>\n",
       "      <td>17820026.0</td>\n",
       "      <td>2023-03-07</td>\n",
       "      <td>10539</td>\n",
       "      <td>4105</td>\n",
       "      <td>SILICON VALLEY BANK</td>\n",
       "      <td>2.090260e+08</td>\n",
       "      <td>175378000.0</td>\n",
       "      <td>FAILURE</td>\n",
       "      <td>PA</td>\n",
       "      <td>DIF</td>\n",
       "      <td>CA</td>\n",
       "    </tr>\n",
       "    <tr>\n",
       "      <th>514</th>\n",
       "      <td>3510.0</td>\n",
       "      <td>N</td>\n",
       "      <td>CHARLOTTE, NC</td>\n",
       "      <td>NaN</td>\n",
       "      <td>2009-01-16</td>\n",
       "      <td>0</td>\n",
       "      <td>3586</td>\n",
       "      <td>BANK OF AMERICA N.A.</td>\n",
       "      <td>1.471631e+09</td>\n",
       "      <td>954677580.0</td>\n",
       "      <td>ASSISTANCE</td>\n",
       "      <td>OBAM</td>\n",
       "      <td>DIF</td>\n",
       "      <td>NC</td>\n",
       "    </tr>\n",
       "    <tr>\n",
       "      <th>527</th>\n",
       "      <td>7213.0</td>\n",
       "      <td>N</td>\n",
       "      <td>LAS VEGAS, NV</td>\n",
       "      <td>NaN</td>\n",
       "      <td>2008-11-23</td>\n",
       "      <td>0</td>\n",
       "      <td>3578</td>\n",
       "      <td>CITIBANK, NATIONAL ASSOCIATION</td>\n",
       "      <td>1.207007e+09</td>\n",
       "      <td>230042000.0</td>\n",
       "      <td>ASSISTANCE</td>\n",
       "      <td>OBAM</td>\n",
       "      <td>DIF</td>\n",
       "      <td>NV</td>\n",
       "    </tr>\n",
       "    <tr>\n",
       "      <th>541</th>\n",
       "      <td>32633.0</td>\n",
       "      <td>SB</td>\n",
       "      <td>HENDERSON, NV</td>\n",
       "      <td>0.0</td>\n",
       "      <td>2008-09-25</td>\n",
       "      <td>10015</td>\n",
       "      <td>3568</td>\n",
       "      <td>WASHINGTON MUTUAL BANK</td>\n",
       "      <td>3.070216e+08</td>\n",
       "      <td>188260793.0</td>\n",
       "      <td>FAILURE</td>\n",
       "      <td>PA</td>\n",
       "      <td>DIF</td>\n",
       "      <td>NV</td>\n",
       "    </tr>\n",
       "  </tbody>\n",
       "</table>\n",
       "</div>"
      ],
      "text/plain": [
       "        CERT CHCLASS1             CITYST        COST   FAILDATE    FIN    ID  \\\n",
       "2    59017.0       NM  SAN FRANCISCO, CA  16521935.0 2023-05-01  10543  4107   \n",
       "4    24735.0       SM    SANTA CLARA, CA  17820026.0 2023-03-07  10539  4105   \n",
       "514   3510.0        N      CHARLOTTE, NC         NaN 2009-01-16      0  3586   \n",
       "527   7213.0        N      LAS VEGAS, NV         NaN 2008-11-23      0  3578   \n",
       "541  32633.0       SB      HENDERSON, NV         0.0 2008-09-25  10015  3568   \n",
       "\n",
       "                               NAME      QBFASSET       QBFDEP     RESTYPE  \\\n",
       "2               FIRST REPUBLIC BANK  2.126389e+08  176436706.0     FAILURE   \n",
       "4               SILICON VALLEY BANK  2.090260e+08  175378000.0     FAILURE   \n",
       "514            BANK OF AMERICA N.A.  1.471631e+09  954677580.0  ASSISTANCE   \n",
       "527  CITIBANK, NATIONAL ASSOCIATION  1.207007e+09  230042000.0  ASSISTANCE   \n",
       "541          WASHINGTON MUTUAL BANK  3.070216e+08  188260793.0     FAILURE   \n",
       "\n",
       "    RESTYPE1 SAVR  ST  \n",
       "2         PA  DIF  CA  \n",
       "4         PA  DIF  CA  \n",
       "514     OBAM  DIF  NC  \n",
       "527     OBAM  DIF  NV  \n",
       "541       PA  DIF  NV  "
      ]
     },
     "execution_count": 60,
     "metadata": {},
     "output_type": "execute_result"
    }
   ],
   "source": [
    "df[df[\"QBFASSET\"] > 200_000_000]"
   ]
  },
  {
   "cell_type": "code",
   "execution_count": 65,
   "metadata": {},
   "outputs": [
    {
     "data": {
      "text/plain": [
       "QBFASSET\n",
       "False    4104\n",
       "True        5\n",
       "Name: count, dtype: int64"
      ]
     },
     "execution_count": 65,
     "metadata": {},
     "output_type": "execute_result"
    }
   ],
   "source": [
    "(df[\"QBFASSET\"] > 200_000_000).value_counts()"
   ]
  },
  {
   "cell_type": "code",
   "execution_count": 66,
   "metadata": {},
   "outputs": [
    {
     "data": {
      "text/plain": [
       "QBFASSET\n",
       "False    0.998783\n",
       "True     0.001217\n",
       "Name: proportion, dtype: float64"
      ]
     },
     "execution_count": 66,
     "metadata": {},
     "output_type": "execute_result"
    }
   ],
   "source": [
    "(df[\"QBFASSET\"] > 200_000_000).value_counts(normalize=True)"
   ]
  },
  {
   "cell_type": "markdown",
   "metadata": {},
   "source": [
    "#### 6. When was the most recent failure greater than SVB?"
   ]
  },
  {
   "cell_type": "code",
   "execution_count": 68,
   "metadata": {},
   "outputs": [
    {
     "data": {
      "text/html": [
       "<div>\n",
       "<style scoped>\n",
       "    .dataframe tbody tr th:only-of-type {\n",
       "        vertical-align: middle;\n",
       "    }\n",
       "\n",
       "    .dataframe tbody tr th {\n",
       "        vertical-align: top;\n",
       "    }\n",
       "\n",
       "    .dataframe thead th {\n",
       "        text-align: right;\n",
       "    }\n",
       "</style>\n",
       "<table border=\"1\" class=\"dataframe\">\n",
       "  <thead>\n",
       "    <tr style=\"text-align: right;\">\n",
       "      <th></th>\n",
       "      <th>CERT</th>\n",
       "      <th>CHCLASS1</th>\n",
       "      <th>CITYST</th>\n",
       "      <th>COST</th>\n",
       "      <th>FAILDATE</th>\n",
       "      <th>FIN</th>\n",
       "      <th>ID</th>\n",
       "      <th>NAME</th>\n",
       "      <th>QBFASSET</th>\n",
       "      <th>QBFDEP</th>\n",
       "      <th>RESTYPE</th>\n",
       "      <th>RESTYPE1</th>\n",
       "      <th>SAVR</th>\n",
       "      <th>ST</th>\n",
       "    </tr>\n",
       "  </thead>\n",
       "  <tbody>\n",
       "    <tr>\n",
       "      <th>2</th>\n",
       "      <td>59017.0</td>\n",
       "      <td>NM</td>\n",
       "      <td>SAN FRANCISCO, CA</td>\n",
       "      <td>16521935.0</td>\n",
       "      <td>2023-05-01</td>\n",
       "      <td>10543</td>\n",
       "      <td>4107</td>\n",
       "      <td>FIRST REPUBLIC BANK</td>\n",
       "      <td>2.126389e+08</td>\n",
       "      <td>176436706.0</td>\n",
       "      <td>FAILURE</td>\n",
       "      <td>PA</td>\n",
       "      <td>DIF</td>\n",
       "      <td>CA</td>\n",
       "    </tr>\n",
       "    <tr>\n",
       "      <th>514</th>\n",
       "      <td>3510.0</td>\n",
       "      <td>N</td>\n",
       "      <td>CHARLOTTE, NC</td>\n",
       "      <td>NaN</td>\n",
       "      <td>2009-01-16</td>\n",
       "      <td>0</td>\n",
       "      <td>3586</td>\n",
       "      <td>BANK OF AMERICA N.A.</td>\n",
       "      <td>1.471631e+09</td>\n",
       "      <td>954677580.0</td>\n",
       "      <td>ASSISTANCE</td>\n",
       "      <td>OBAM</td>\n",
       "      <td>DIF</td>\n",
       "      <td>NC</td>\n",
       "    </tr>\n",
       "    <tr>\n",
       "      <th>527</th>\n",
       "      <td>7213.0</td>\n",
       "      <td>N</td>\n",
       "      <td>LAS VEGAS, NV</td>\n",
       "      <td>NaN</td>\n",
       "      <td>2008-11-23</td>\n",
       "      <td>0</td>\n",
       "      <td>3578</td>\n",
       "      <td>CITIBANK, NATIONAL ASSOCIATION</td>\n",
       "      <td>1.207007e+09</td>\n",
       "      <td>230042000.0</td>\n",
       "      <td>ASSISTANCE</td>\n",
       "      <td>OBAM</td>\n",
       "      <td>DIF</td>\n",
       "      <td>NV</td>\n",
       "    </tr>\n",
       "    <tr>\n",
       "      <th>541</th>\n",
       "      <td>32633.0</td>\n",
       "      <td>SB</td>\n",
       "      <td>HENDERSON, NV</td>\n",
       "      <td>0.0</td>\n",
       "      <td>2008-09-25</td>\n",
       "      <td>10015</td>\n",
       "      <td>3568</td>\n",
       "      <td>WASHINGTON MUTUAL BANK</td>\n",
       "      <td>3.070216e+08</td>\n",
       "      <td>188260793.0</td>\n",
       "      <td>FAILURE</td>\n",
       "      <td>PA</td>\n",
       "      <td>DIF</td>\n",
       "      <td>NV</td>\n",
       "    </tr>\n",
       "  </tbody>\n",
       "</table>\n",
       "</div>"
      ],
      "text/plain": [
       "        CERT CHCLASS1             CITYST        COST   FAILDATE    FIN    ID  \\\n",
       "2    59017.0       NM  SAN FRANCISCO, CA  16521935.0 2023-05-01  10543  4107   \n",
       "514   3510.0        N      CHARLOTTE, NC         NaN 2009-01-16      0  3586   \n",
       "527   7213.0        N      LAS VEGAS, NV         NaN 2008-11-23      0  3578   \n",
       "541  32633.0       SB      HENDERSON, NV         0.0 2008-09-25  10015  3568   \n",
       "\n",
       "                               NAME      QBFASSET       QBFDEP     RESTYPE  \\\n",
       "2               FIRST REPUBLIC BANK  2.126389e+08  176436706.0     FAILURE   \n",
       "514            BANK OF AMERICA N.A.  1.471631e+09  954677580.0  ASSISTANCE   \n",
       "527  CITIBANK, NATIONAL ASSOCIATION  1.207007e+09  230042000.0  ASSISTANCE   \n",
       "541          WASHINGTON MUTUAL BANK  3.070216e+08  188260793.0     FAILURE   \n",
       "\n",
       "    RESTYPE1 SAVR  ST  \n",
       "2         PA  DIF  CA  \n",
       "514     OBAM  DIF  NC  \n",
       "527     OBAM  DIF  NV  \n",
       "541       PA  DIF  NV  "
      ]
     },
     "execution_count": 68,
     "metadata": {},
     "output_type": "execute_result"
    }
   ],
   "source": [
    "svb_assets = df[df[\"NAME\"] == \"SILICON VALLEY BANK\"][\"QBFASSET\"].values[0]\n",
    "df[df[\"QBFASSET\"] > svb_assets].sort_values(\"FAILDATE\", ascending=False)"
   ]
  },
  {
   "cell_type": "markdown",
   "metadata": {},
   "source": [
    "#### 7. Bank failures can be resolved in several different ways. How often, historically, have we seen each resolution? Were the odds good that SVB's uninsured depositors would get their money?\n"
   ]
  },
  {
   "cell_type": "markdown",
   "metadata": {},
   "source": [
    "Category 1 - Institution's charter survives\n",
    "\n",
    " A/A (Assistance Transactions). These include:\n",
    "\n",
    "transactions\n",
    "\n",
    "where assistance was provided to the acquirer, who purchased the entire institution. For a few FSLIC transactions, the acquirer purchased the entire bridge bank - type entity, but certain other assets were moved into a liquidating receivership prior to the sale, and\n",
    "\n",
    "open bank\n",
    "\n",
    "assistance transactions, including those where assistance was provided under a systemic risk determination (in such cases any costs that exceed the amounts estimated under the least cost resolution requirement would be recovered through a special assessment on all FDIC-insured institutions).\n",
    "\n",
    "REP - Re-privatization, management takeover with or without assistance at takeover, followed by a sale with or without additional assistance.\n",
    "\n",
    "Category 2 - Institution's charter is terminated, insured deposits plus some assets and other liabilities are transferred to a successor charter\n",
    "\n",
    "P&A - Purchase and Assumption, where some or all of the deposits, certain other liabilities and a portion of the assets (sometimes all of the assets) were sold to an acquirer. It was not determined if all of the deposits (PA) or only the insured deposits (PI) were assumed.\n",
    "\n",
    " PA - Purchase and Assumption, where the insured and uninsured deposits, certain other liabilities and a portion of the assets were sold to an acquirer.\n",
    "\n",
    " PI - Purchase and Assumption of the insured deposits only, where the traditional P&A was modified so that only the insured deposits were assumed by the acquiring institution.\n",
    "\n",
    "IDT - Insured Deposit Transfer, where the acquiring institution served as a paying agent for the insurer, established accounts on their books for depositors, and often acquired some assets as well. Includes ABT (asset-backed transfer, a FSLIC transaction that is very similar to an IDT).\n",
    "\n",
    "MGR - An institution where FSLIC took over management and generally provided financial assistance. FSLIC closed down before the institution was sold.\n",
    "\n",
    "Category 3\n",
    "\n",
    "PO - Payout, where the insurer paid the depositors directly and placed the assets in a liquidating receivership.\n",
    "\n",
    "Note: Includes transactions where the FDIC established a Deposit Insurance National Bank to facilitate the payout process."
   ]
  },
  {
   "cell_type": "code",
   "execution_count": 83,
   "metadata": {},
   "outputs": [
    {
     "data": {
      "text/plain": [
       "RESTYPE1\n",
       "PA      51.16\n",
       "A/A     14.09\n",
       "PO      13.94\n",
       "IDT      9.39\n",
       "P&A      6.11\n",
       "PI       3.41\n",
       "MGR      0.90\n",
       "ABT      0.39\n",
       "OBAM     0.32\n",
       "DINB     0.22\n",
       "REP      0.07\n",
       "Name: proportion, dtype: float64"
      ]
     },
     "execution_count": 83,
     "metadata": {},
     "output_type": "execute_result"
    }
   ],
   "source": [
    "df.RESTYPE1.value_counts(normalize=True).round(4) * 100"
   ]
  },
  {
   "cell_type": "code",
   "execution_count": 80,
   "metadata": {},
   "outputs": [
    {
     "data": {
      "text/plain": [
       "<Axes: xlabel='RESTYPE1'>"
      ]
     },
     "execution_count": 80,
     "metadata": {},
     "output_type": "execute_result"
    },
    {
     "data": {
      "image/png": "[encoded data removed]",
      "text/plain": [
       "<Figure size 640x480 with 1 Axes>"
      ]
     },
     "metadata": {},
     "output_type": "display_data"
    }
   ],
   "source": [
    "df.RESTYPE1.value_counts().plot.bar()"
   ]
  },
  {
   "cell_type": "markdown",
   "metadata": {},
   "source": [
    "#### 8. What about bank failures in the last 25 years — if we just look at those, do the odds change?"
   ]
  },
  {
   "cell_type": "code",
   "execution_count": 85,
   "metadata": {},
   "outputs": [
    {
     "data": {
      "text/plain": [
       "RESTYPE1\n",
       "PA      87.74\n",
       "PI       4.66\n",
       "PO       3.97\n",
       "OBAM     2.25\n",
       "DINB     1.38\n",
       "Name: proportion, dtype: float64"
      ]
     },
     "execution_count": 85,
     "metadata": {},
     "output_type": "execute_result"
    }
   ],
   "source": [
    "df[df[\"FAILDATE\"].dt.year > 2000].RESTYPE1.value_counts(normalize=True).round(4) * 100"
   ]
  },
  {
   "cell_type": "markdown",
   "metadata": {},
   "source": [
    "#### 9. What was the mean estimated loss in bank failures? What proportion of a bank's assets did this generally involve?"
   ]
  },
  {
   "cell_type": "code",
   "execution_count": 97,
   "metadata": {},
   "outputs": [
    {
     "data": {
      "text/plain": [
       "[]"
      ]
     },
     "execution_count": 97,
     "metadata": {},
     "output_type": "execute_result"
    },
    {
     "data": {
      "image/png": "[encoded data removed]",
      "text/plain": [
       "<Figure size 640x480 with 1 Axes>"
      ]
     },
     "metadata": {},
     "output_type": "display_data"
    }
   ],
   "source": [
    "df[\"COST\"].dropna().plot.hist(bins=200)\n",
    "plt.loglog()"
   ]
  },
  {
   "cell_type": "code",
   "execution_count": 101,
   "metadata": {},
   "outputs": [
    {
     "data": {
      "image/png": "[encoded data removed]",
      "text/plain": [
       "<Figure size 640x480 with 1 Axes>"
      ]
     },
     "metadata": {},
     "output_type": "display_data"
    }
   ],
   "source": [
    "sns.boxplot(df[\"COST\"], showmeans=True, showfliers=True)\n",
    "plt.yscale(\"log\")"
   ]
  },
  {
   "cell_type": "code",
   "execution_count": 102,
   "metadata": {},
   "outputs": [
    {
     "data": {
      "text/plain": [
       "84698.09879032258"
      ]
     },
     "execution_count": 102,
     "metadata": {},
     "output_type": "execute_result"
    }
   ],
   "source": [
    "df[\"COST\"].mean()"
   ]
  },
  {
   "cell_type": "markdown",
   "metadata": {},
   "source": [
    "We see that it cost, on average, $85m to bail out a bank."
   ]
  },
  {
   "cell_type": "code",
   "execution_count": 103,
   "metadata": {},
   "outputs": [
    {
     "data": {
      "text/plain": [
       "11315.0"
      ]
     },
     "execution_count": 103,
     "metadata": {},
     "output_type": "execute_result"
    }
   ],
   "source": [
    "df[\"COST\"].median()"
   ]
  },
  {
   "cell_type": "code",
   "execution_count": 104,
   "metadata": {},
   "outputs": [],
   "source": [
    "df[\"COST_PER\"] = df[\"COST\"] / df[\"QBFASSET\"]"
   ]
  },
  {
   "cell_type": "code",
   "execution_count": 105,
   "metadata": {},
   "outputs": [
    {
     "data": {
      "text/plain": [
       "RESTYPE1\n",
       "A/A     0.270482\n",
       "ABT     0.574982\n",
       "DINB    0.310333\n",
       "IDT     0.407632\n",
       "MGR     0.753728\n",
       "OBAM         NaN\n",
       "P&A          NaN\n",
       "PA      0.211179\n",
       "PI      0.190293\n",
       "PO      0.362070\n",
       "REP     0.037530\n",
       "Name: COST_PER, dtype: float64"
      ]
     },
     "execution_count": 105,
     "metadata": {},
     "output_type": "execute_result"
    }
   ],
   "source": [
    "df.groupby(\"RESTYPE1\")[\"COST_PER\"].mean()"
   ]
  }
 ],
 "metadata": {
  "kernelspec": {
   "display_name": "base",
   "language": "python",
   "name": "python3"
  },
  "language_info": {
   "codemirror_mode": {
    "name": "ipython",
    "version": 3
   },
   "file_extension": ".py",
   "mimetype": "text/x-python",
   "name": "python",
   "nbconvert_exporter": "python",
   "pygments_lexer": "ipython3",
   "version": "3.11.5"
  }
 },
 "nbformat": 4,
 "nbformat_minor": 2
}
