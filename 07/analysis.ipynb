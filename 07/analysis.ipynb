{
 "cells": [
  {
   "cell_type": "code",
   "execution_count": 1,
   "metadata": {},
   "outputs": [],
   "source": [
    "import pandas as pd\n",
    "import numpy as np\n",
    "import matplotlib.pyplot as plt\n",
    "import seaborn as sns\n"
   ]
  },
  {
   "cell_type": "markdown",
   "metadata": {},
   "source": [
    "## This week’s topic: Bank failures\n",
    "\n",
    "Decades ago, the US decided to do something about this. They established the FDIC (Federal Deposit Insurance Corporation), which is a sort of bank insurance company. Every bank is required to pay FDIC. In exchange, the FDIC guarantees that anyone with up to $250k in their account will get their money, even if the bank goes insolvent. You, as a bank customers, thus don’t need to worry too much about which bank you’re at; so long as it’s FDIC insured, you’re guaranteed to get your money.\n",
    "\n",
    "Turns out, they were the bank of choice for 50 percent (!) of all venture-backed startups in the US. They were the 16th largest bank in the US (according to the [Federal Reserve](https://www.federalreserve.gov/releases/lbr/current/default.htm)), with about $200b in assets. Ths isn’t a small community bank!\n",
    "\n",
    "As of this writing, the FDIC has taken over SVB. Most interestingly, various parties (the FDIC, Federal Reserve, and US Treasury) have said that everyone will get their money back, not just those with up to $250k in deposits. That was likely a relief to the many startups that had deposited millions and billions of investments in the bank, and which were starting to worry about making payroll.\n",
    "\n",
    "For more background on what happened with SVB, I’ll refer you to the (always amazing) Matt Levine, whose [“Money Stuff” column](https://www.bloomberg.com/opinion/authors/ARbTQlRLRjE/matthew-s-levine) can’t come often enough. I don’t know how he writes so much, and so insightfully, while being so funny — but he does.\n",
    "\n",
    "Also, check out this story from This American Life in 2009, where reporter Chana Jaffe-Walt takes us through the FDIC’s takeover of a bank: https://www.thisamericanlife.org/377/scenes-from-a-recession/act-two-3. It was such a good story that I remembered it from more than a decade ago.\n",
    "\n",
    "### Data\n",
    "\n",
    "Our data this week comes from the FDIC, which offers a complete database describing bank failures at https://banks.data.fdic.gov/docs/. We’re specifically going to look at the bank-failure data, which is at the following page:\n",
    "\n",
    "https://banks.data.fdic.gov/explore/failures?aggReport=detail&displayFields=NAME%2CCERT%2CFIN%2CCITYST%2CFAILDATE%2CSAVR%2CRESTYPE%2CCOST%2CRESTYPE1%2CCHCLASS1%2CQBFDEP%2CQBFASSET&endFailYear=2023&sortField=FAILDATE&sortOrder=desc&startFailYear=1934\n",
    "Once at this URL, you can click on the “download” button. Or you can use the following URL:\n",
    "\n",
    "https://pfabankapi.app.cloud.gov/api/failures?fields=NAME%2CCERT%2CFIN%2CCITYST%2CFAILDATE%2CSAVR%2CRESTYPE%2CCOST%2CRESTYPE1%2CCHCLASS1%2CQBFDEP%2CQBFASSET&filters=FAILYR%3A%5B1934%20TO%202023%5D&limit=10000&react=true&sort_by=FAILDATE&sort_order=desc&subtotal_by=RESTYPE&total_fields=QBFDEP%2CQBFASSET%2CCOST&format=csv&download=true&filename=bank-data\n",
    "\n",
    "(And yes, I’ll admit that some of this data set is about “assistance,” rather than “failures,” but I’m just going to lump them all together under the term “failures” for the purposes of this week’s question and answers.)\n",
    "\n",
    "The data dictionary for the file is at https://banks.data.fdic.gov/explore/failures/help.\n",
    "\n",
    "### Tasks\n",
    "\n",
    "Our questions for this week are:\n",
    "\n",
    "1. According to our document, how many bank failures have there been since the FDIC was opened?\n",
    "1. What was the earliest failure in our data set? What is the most recent failure in our data set?\n",
    "1. In which five years did the greatest number of banks fail?\n",
    "1. In which three states were the greatest number of failed banks?\n",
    "1. What was the average market capitalization of the banks that failed? Given a capitalization of $200b, did that make SVB above, below, or about average?\n",
    "1. When was the most recent failure greater than SVB?\n",
    "1. Bank failures can be resolved in several different ways. How often, historically, have we seen each resolution? Were the odds good that SVB's uninsured depositors would get their money?\n",
    "1. What about bank failures in the last 25 years -- if we just look at those, do the odds change?\n",
    "1. What was the mean estimated loss in bank failures? What proportion of a bank's assets did this generally involve?\n",
    "\n",
    "The learning goals for this week include working with dates and strings. And some insights into whether people were right to panic about losing their money when SVB went under."
   ]
  },
  {
   "cell_type": "code",
   "execution_count": 2,
   "metadata": {},
   "outputs": [],
   "source": [
    "url = \"https://pfabankapi.app.cloud.gov/api/failures?fields=NAME%2CCERT%2CFIN%2CCITYST%2CFAILDATE%2CSAVR%2CRESTYPE%2CCOST%2CRESTYPE1%2CCHCLASS1%2CQBFDEP%2CQBFASSET&filters=FAILYR%3A%5B1934%20TO%202023%5D&limit=10000&react=true&sort_by=FAILDATE&sort_order=desc&subtotal_by=RESTYPE&total_fields=QBFDEP%2CQBFASSET%2CCOST&format=csv&download=true&filename=bank-data\"\n",
    "df = pd.read_csv(url)"
   ]
  },
  {
   "cell_type": "code",
   "execution_count": 3,
   "metadata": {},
   "outputs": [
    {
     "data": {
      "text/html": [
       "<div>\n",
       "<style scoped>\n",
       "    .dataframe tbody tr th:only-of-type {\n",
       "        vertical-align: middle;\n",
       "    }\n",
       "\n",
       "    .dataframe tbody tr th {\n",
       "        vertical-align: top;\n",
       "    }\n",
       "\n",
       "    .dataframe thead th {\n",
       "        text-align: right;\n",
       "    }\n",
       "</style>\n",
       "<table border=\"1\" class=\"dataframe\">\n",
       "  <thead>\n",
       "    <tr style=\"text-align: right;\">\n",
       "      <th></th>\n",
       "      <th>CERT</th>\n",
       "      <th>CHCLASS1</th>\n",
       "      <th>CITYST</th>\n",
       "      <th>COST</th>\n",
       "      <th>FAILDATE</th>\n",
       "      <th>FIN</th>\n",
       "      <th>ID</th>\n",
       "      <th>NAME</th>\n",
       "      <th>QBFASSET</th>\n",
       "      <th>QBFDEP</th>\n",
       "      <th>RESTYPE</th>\n",
       "      <th>RESTYPE1</th>\n",
       "      <th>SAVR</th>\n",
       "    </tr>\n",
       "  </thead>\n",
       "  <tbody>\n",
       "    <tr>\n",
       "      <th>0</th>\n",
       "      <td>8758.0</td>\n",
       "      <td>NM</td>\n",
       "      <td>SAC CITY, IA</td>\n",
       "      <td>14804.0</td>\n",
       "      <td>11/3/2023</td>\n",
       "      <td>10545</td>\n",
       "      <td>4109</td>\n",
       "      <td>CITIZENS BANK</td>\n",
       "      <td>60448.0</td>\n",
       "      <td>52311.0</td>\n",
       "      <td>FAILURE</td>\n",
       "      <td>PA</td>\n",
       "      <td>DIF</td>\n",
       "    </tr>\n",
       "    <tr>\n",
       "      <th>1</th>\n",
       "      <td>25851.0</td>\n",
       "      <td>SM</td>\n",
       "      <td>ELKHART, KS</td>\n",
       "      <td>54167.0</td>\n",
       "      <td>7/28/2023</td>\n",
       "      <td>10544</td>\n",
       "      <td>4108</td>\n",
       "      <td>HEARTLAND TRI-STATE BANK</td>\n",
       "      <td>139446.0</td>\n",
       "      <td>130110.0</td>\n",
       "      <td>FAILURE</td>\n",
       "      <td>PA</td>\n",
       "      <td>DIF</td>\n",
       "    </tr>\n",
       "    <tr>\n",
       "      <th>2</th>\n",
       "      <td>59017.0</td>\n",
       "      <td>NM</td>\n",
       "      <td>SAN FRANCISCO, CA</td>\n",
       "      <td>16521935.0</td>\n",
       "      <td>5/1/2023</td>\n",
       "      <td>10543</td>\n",
       "      <td>4107</td>\n",
       "      <td>FIRST REPUBLIC BANK</td>\n",
       "      <td>212638872.0</td>\n",
       "      <td>176436706.0</td>\n",
       "      <td>FAILURE</td>\n",
       "      <td>PA</td>\n",
       "      <td>DIF</td>\n",
       "    </tr>\n",
       "    <tr>\n",
       "      <th>3</th>\n",
       "      <td>57053.0</td>\n",
       "      <td>NM</td>\n",
       "      <td>NEW YORK, NY</td>\n",
       "      <td>884248.0</td>\n",
       "      <td>3/12/2023</td>\n",
       "      <td>10540</td>\n",
       "      <td>4106</td>\n",
       "      <td>SIGNATURE BANK</td>\n",
       "      <td>110363650.0</td>\n",
       "      <td>88612911.0</td>\n",
       "      <td>FAILURE</td>\n",
       "      <td>PA</td>\n",
       "      <td>DIF</td>\n",
       "    </tr>\n",
       "    <tr>\n",
       "      <th>4</th>\n",
       "      <td>24735.0</td>\n",
       "      <td>SM</td>\n",
       "      <td>SANTA CLARA, CA</td>\n",
       "      <td>17820026.0</td>\n",
       "      <td>3/7/2023</td>\n",
       "      <td>10539</td>\n",
       "      <td>4105</td>\n",
       "      <td>SILICON VALLEY BANK</td>\n",
       "      <td>209026000.0</td>\n",
       "      <td>175378000.0</td>\n",
       "      <td>FAILURE</td>\n",
       "      <td>PA</td>\n",
       "      <td>DIF</td>\n",
       "    </tr>\n",
       "  </tbody>\n",
       "</table>\n",
       "</div>"
      ],
      "text/plain": [
       "      CERT CHCLASS1             CITYST        COST   FAILDATE    FIN    ID  \\\n",
       "0   8758.0       NM       SAC CITY, IA     14804.0  11/3/2023  10545  4109   \n",
       "1  25851.0       SM        ELKHART, KS     54167.0  7/28/2023  10544  4108   \n",
       "2  59017.0       NM  SAN FRANCISCO, CA  16521935.0   5/1/2023  10543  4107   \n",
       "3  57053.0       NM       NEW YORK, NY    884248.0  3/12/2023  10540  4106   \n",
       "4  24735.0       SM    SANTA CLARA, CA  17820026.0   3/7/2023  10539  4105   \n",
       "\n",
       "                       NAME     QBFASSET       QBFDEP  RESTYPE RESTYPE1 SAVR  \n",
       "0             CITIZENS BANK      60448.0      52311.0  FAILURE       PA  DIF  \n",
       "1  HEARTLAND TRI-STATE BANK     139446.0     130110.0  FAILURE       PA  DIF  \n",
       "2       FIRST REPUBLIC BANK  212638872.0  176436706.0  FAILURE       PA  DIF  \n",
       "3            SIGNATURE BANK  110363650.0   88612911.0  FAILURE       PA  DIF  \n",
       "4       SILICON VALLEY BANK  209026000.0  175378000.0  FAILURE       PA  DIF  "
      ]
     },
     "execution_count": 3,
     "metadata": {},
     "output_type": "execute_result"
    }
   ],
   "source": [
    "df.head()"
   ]
  },
  {
   "cell_type": "code",
   "execution_count": 4,
   "metadata": {},
   "outputs": [
    {
     "name": "stdout",
     "output_type": "stream",
     "text": [
      "<class 'pandas.core.frame.DataFrame'>\n",
      "RangeIndex: 4109 entries, 0 to 4108\n",
      "Data columns (total 13 columns):\n",
      " #   Column    Non-Null Count  Dtype  \n",
      "---  ------    --------------  -----  \n",
      " 0   CERT      3621 non-null   float64\n",
      " 1   CHCLASS1  4109 non-null   object \n",
      " 2   CITYST    4109 non-null   object \n",
      " 3   COST      3472 non-null   float64\n",
      " 4   FAILDATE  4109 non-null   object \n",
      " 5   FIN       4109 non-null   int64  \n",
      " 6   ID        4109 non-null   int64  \n",
      " 7   NAME      4109 non-null   object \n",
      " 8   QBFASSET  3955 non-null   float64\n",
      " 9   QBFDEP    4107 non-null   float64\n",
      " 10  RESTYPE   4109 non-null   object \n",
      " 11  RESTYPE1  4109 non-null   object \n",
      " 12  SAVR      4109 non-null   object \n",
      "dtypes: float64(4), int64(2), object(7)\n",
      "memory usage: 417.4+ KB\n"
     ]
    }
   ],
   "source": [
    "df.info()"
   ]
  },
  {
   "cell_type": "code",
   "execution_count": 5,
   "metadata": {},
   "outputs": [],
   "source": [
    "df[\"FAILDATE\"] = pd.to_datetime(df[\"FAILDATE\"])"
   ]
  },
  {
   "cell_type": "code",
   "execution_count": 6,
   "metadata": {},
   "outputs": [
    {
     "data": {
      "text/html": [
       "<div>\n",
       "<style scoped>\n",
       "    .dataframe tbody tr th:only-of-type {\n",
       "        vertical-align: middle;\n",
       "    }\n",
       "\n",
       "    .dataframe tbody tr th {\n",
       "        vertical-align: top;\n",
       "    }\n",
       "\n",
       "    .dataframe thead th {\n",
       "        text-align: right;\n",
       "    }\n",
       "</style>\n",
       "<table border=\"1\" class=\"dataframe\">\n",
       "  <thead>\n",
       "    <tr style=\"text-align: right;\">\n",
       "      <th></th>\n",
       "      <th>CERT</th>\n",
       "      <th>CHCLASS1</th>\n",
       "      <th>CITYST</th>\n",
       "      <th>COST</th>\n",
       "      <th>FAILDATE</th>\n",
       "      <th>FIN</th>\n",
       "      <th>ID</th>\n",
       "      <th>NAME</th>\n",
       "      <th>QBFASSET</th>\n",
       "      <th>QBFDEP</th>\n",
       "      <th>RESTYPE</th>\n",
       "      <th>RESTYPE1</th>\n",
       "      <th>SAVR</th>\n",
       "    </tr>\n",
       "  </thead>\n",
       "  <tbody>\n",
       "    <tr>\n",
       "      <th>0</th>\n",
       "      <td>8758.0</td>\n",
       "      <td>NM</td>\n",
       "      <td>SAC CITY, IA</td>\n",
       "      <td>14804.0</td>\n",
       "      <td>2023-11-03</td>\n",
       "      <td>10545</td>\n",
       "      <td>4109</td>\n",
       "      <td>CITIZENS BANK</td>\n",
       "      <td>60448.0</td>\n",
       "      <td>52311.0</td>\n",
       "      <td>FAILURE</td>\n",
       "      <td>PA</td>\n",
       "      <td>DIF</td>\n",
       "    </tr>\n",
       "    <tr>\n",
       "      <th>1</th>\n",
       "      <td>25851.0</td>\n",
       "      <td>SM</td>\n",
       "      <td>ELKHART, KS</td>\n",
       "      <td>54167.0</td>\n",
       "      <td>2023-07-28</td>\n",
       "      <td>10544</td>\n",
       "      <td>4108</td>\n",
       "      <td>HEARTLAND TRI-STATE BANK</td>\n",
       "      <td>139446.0</td>\n",
       "      <td>130110.0</td>\n",
       "      <td>FAILURE</td>\n",
       "      <td>PA</td>\n",
       "      <td>DIF</td>\n",
       "    </tr>\n",
       "    <tr>\n",
       "      <th>2</th>\n",
       "      <td>59017.0</td>\n",
       "      <td>NM</td>\n",
       "      <td>SAN FRANCISCO, CA</td>\n",
       "      <td>16521935.0</td>\n",
       "      <td>2023-05-01</td>\n",
       "      <td>10543</td>\n",
       "      <td>4107</td>\n",
       "      <td>FIRST REPUBLIC BANK</td>\n",
       "      <td>212638872.0</td>\n",
       "      <td>176436706.0</td>\n",
       "      <td>FAILURE</td>\n",
       "      <td>PA</td>\n",
       "      <td>DIF</td>\n",
       "    </tr>\n",
       "    <tr>\n",
       "      <th>3</th>\n",
       "      <td>57053.0</td>\n",
       "      <td>NM</td>\n",
       "      <td>NEW YORK, NY</td>\n",
       "      <td>884248.0</td>\n",
       "      <td>2023-03-12</td>\n",
       "      <td>10540</td>\n",
       "      <td>4106</td>\n",
       "      <td>SIGNATURE BANK</td>\n",
       "      <td>110363650.0</td>\n",
       "      <td>88612911.0</td>\n",
       "      <td>FAILURE</td>\n",
       "      <td>PA</td>\n",
       "      <td>DIF</td>\n",
       "    </tr>\n",
       "    <tr>\n",
       "      <th>4</th>\n",
       "      <td>24735.0</td>\n",
       "      <td>SM</td>\n",
       "      <td>SANTA CLARA, CA</td>\n",
       "      <td>17820026.0</td>\n",
       "      <td>2023-03-07</td>\n",
       "      <td>10539</td>\n",
       "      <td>4105</td>\n",
       "      <td>SILICON VALLEY BANK</td>\n",
       "      <td>209026000.0</td>\n",
       "      <td>175378000.0</td>\n",
       "      <td>FAILURE</td>\n",
       "      <td>PA</td>\n",
       "      <td>DIF</td>\n",
       "    </tr>\n",
       "  </tbody>\n",
       "</table>\n",
       "</div>"
      ],
      "text/plain": [
       "      CERT CHCLASS1             CITYST        COST   FAILDATE    FIN    ID  \\\n",
       "0   8758.0       NM       SAC CITY, IA     14804.0 2023-11-03  10545  4109   \n",
       "1  25851.0       SM        ELKHART, KS     54167.0 2023-07-28  10544  4108   \n",
       "2  59017.0       NM  SAN FRANCISCO, CA  16521935.0 2023-05-01  10543  4107   \n",
       "3  57053.0       NM       NEW YORK, NY    884248.0 2023-03-12  10540  4106   \n",
       "4  24735.0       SM    SANTA CLARA, CA  17820026.0 2023-03-07  10539  4105   \n",
       "\n",
       "                       NAME     QBFASSET       QBFDEP  RESTYPE RESTYPE1 SAVR  \n",
       "0             CITIZENS BANK      60448.0      52311.0  FAILURE       PA  DIF  \n",
       "1  HEARTLAND TRI-STATE BANK     139446.0     130110.0  FAILURE       PA  DIF  \n",
       "2       FIRST REPUBLIC BANK  212638872.0  176436706.0  FAILURE       PA  DIF  \n",
       "3            SIGNATURE BANK  110363650.0   88612911.0  FAILURE       PA  DIF  \n",
       "4       SILICON VALLEY BANK  209026000.0  175378000.0  FAILURE       PA  DIF  "
      ]
     },
     "execution_count": 6,
     "metadata": {},
     "output_type": "execute_result"
    }
   ],
   "source": [
    "df.head()"
   ]
  },
  {
   "cell_type": "markdown",
   "metadata": {},
   "source": [
    "#### 1. According to our document, how many bank failures have there been since the FDIC was opened?"
   ]
  },
  {
   "cell_type": "code",
   "execution_count": 7,
   "metadata": {},
   "outputs": [
    {
     "data": {
      "text/plain": [
       "RESTYPE\n",
       "FAILURE       3516\n",
       "ASSISTANCE     593\n",
       "Name: count, dtype: int64"
      ]
     },
     "execution_count": 7,
     "metadata": {},
     "output_type": "execute_result"
    }
   ],
   "source": [
    "df[\"RESTYPE\"].value_counts()"
   ]
  },
  {
   "cell_type": "code",
   "execution_count": 8,
   "metadata": {},
   "outputs": [
    {
     "data": {
      "text/plain": [
       "(4109, 13)"
      ]
     },
     "execution_count": 8,
     "metadata": {},
     "output_type": "execute_result"
    }
   ],
   "source": [
    "df.shape"
   ]
  },
  {
   "cell_type": "code",
   "execution_count": 9,
   "metadata": {},
   "outputs": [
    {
     "data": {
      "text/plain": [
       "4109"
      ]
     },
     "execution_count": 9,
     "metadata": {},
     "output_type": "execute_result"
    }
   ],
   "source": [
    "len(df)"
   ]
  },
  {
   "cell_type": "code",
   "execution_count": 10,
   "metadata": {},
   "outputs": [
    {
     "data": {
      "text/plain": [
       "CERT        3621\n",
       "CHCLASS1    4109\n",
       "CITYST      4109\n",
       "COST        3472\n",
       "FAILDATE    4109\n",
       "FIN         4109\n",
       "ID          4109\n",
       "NAME        4109\n",
       "QBFASSET    3955\n",
       "QBFDEP      4107\n",
       "RESTYPE     4109\n",
       "RESTYPE1    4109\n",
       "SAVR        4109\n",
       "dtype: int64"
      ]
     },
     "execution_count": 10,
     "metadata": {},
     "output_type": "execute_result"
    }
   ],
   "source": [
    "df.count()"
   ]
  },
  {
   "cell_type": "markdown",
   "metadata": {},
   "source": [
    "#### 2. What was the earliest failure in our data set? What is the most recent failure in our data set?"
   ]
  },
  {
   "cell_type": "code",
   "execution_count": 11,
   "metadata": {},
   "outputs": [
    {
     "data": {
      "text/plain": [
       "4108   1934-04-19\n",
       "Name: FAILDATE, dtype: datetime64[ns]"
      ]
     },
     "execution_count": 11,
     "metadata": {},
     "output_type": "execute_result"
    }
   ],
   "source": [
    "df[\"FAILDATE\"].sort_values().head(1)"
   ]
  },
  {
   "cell_type": "code",
   "execution_count": 12,
   "metadata": {},
   "outputs": [
    {
     "data": {
      "text/plain": [
       "Timestamp('1934-04-19 00:00:00')"
      ]
     },
     "execution_count": 12,
     "metadata": {},
     "output_type": "execute_result"
    }
   ],
   "source": [
    "df[\"FAILDATE\"].min()"
   ]
  },
  {
   "cell_type": "code",
   "execution_count": 13,
   "metadata": {},
   "outputs": [
    {
     "data": {
      "text/plain": [
       "0   2023-11-03\n",
       "Name: FAILDATE, dtype: datetime64[ns]"
      ]
     },
     "execution_count": 13,
     "metadata": {},
     "output_type": "execute_result"
    }
   ],
   "source": [
    "df[\"FAILDATE\"].sort_values().tail(1)"
   ]
  },
  {
   "cell_type": "code",
   "execution_count": 14,
   "metadata": {},
   "outputs": [
    {
     "data": {
      "text/plain": [
       "Timestamp('2023-11-03 00:00:00')"
      ]
     },
     "execution_count": 14,
     "metadata": {},
     "output_type": "execute_result"
    }
   ],
   "source": [
    "df[\"FAILDATE\"].max()"
   ]
  },
  {
   "cell_type": "code",
   "execution_count": 15,
   "metadata": {},
   "outputs": [
    {
     "data": {
      "text/plain": [
       "min   1934-04-19\n",
       "max   2023-11-03\n",
       "Name: FAILDATE, dtype: datetime64[ns]"
      ]
     },
     "execution_count": 15,
     "metadata": {},
     "output_type": "execute_result"
    }
   ],
   "source": [
    "df[\"FAILDATE\"].agg([\"min\", \"max\"])"
   ]
  },
  {
   "cell_type": "code",
   "execution_count": 16,
   "metadata": {},
   "outputs": [
    {
     "data": {
      "text/plain": [
       "count                             4109\n",
       "mean     1985-12-28 03:27:06.965198336\n",
       "min                1934-04-19 00:00:00\n",
       "25%                1985-07-11 00:00:00\n",
       "50%                1988-12-30 00:00:00\n",
       "75%                1991-05-03 00:00:00\n",
       "max                2023-11-03 00:00:00\n",
       "Name: FAILDATE, dtype: object"
      ]
     },
     "execution_count": 16,
     "metadata": {},
     "output_type": "execute_result"
    }
   ],
   "source": [
    "df[\"FAILDATE\"].describe()"
   ]
  },
  {
   "cell_type": "markdown",
   "metadata": {},
   "source": [
    "#### 3. In which five years did the greatest number of banks fail?"
   ]
  },
  {
   "cell_type": "code",
   "execution_count": 17,
   "metadata": {},
   "outputs": [
    {
     "data": {
      "text/plain": [
       "FAILDATE\n",
       "1989    534\n",
       "1988    470\n",
       "1990    382\n",
       "1991    271\n",
       "1987    262\n",
       "Name: count, dtype: int64"
      ]
     },
     "execution_count": 17,
     "metadata": {},
     "output_type": "execute_result"
    }
   ],
   "source": [
    "df[\"FAILDATE\"].dt.year.value_counts().head(5)"
   ]
  },
  {
   "cell_type": "code",
   "execution_count": 18,
   "metadata": {},
   "outputs": [
    {
     "data": {
      "text/plain": [
       "FAILDATE\n",
       "1989    534\n",
       "1988    470\n",
       "1990    382\n",
       "1991    271\n",
       "1987    262\n",
       "Name: NAME, dtype: int64"
      ]
     },
     "execution_count": 18,
     "metadata": {},
     "output_type": "execute_result"
    }
   ],
   "source": [
    "df.groupby(df[\"FAILDATE\"].dt.year)[\"NAME\"].count().sort_values(ascending=False).head(5)"
   ]
  },
  {
   "cell_type": "markdown",
   "metadata": {},
   "source": [
    "#### 4. In which three states were the greatest number of failed banks?"
   ]
  },
  {
   "cell_type": "code",
   "execution_count": 19,
   "metadata": {},
   "outputs": [
    {
     "data": {
      "text/plain": [
       "CITYST\n",
       "HOUSTON, TX        105\n",
       "DALLAS, TX          64\n",
       "CHICAGO, IL         51\n",
       "SAN ANTONIO, TX     45\n",
       "AUSTIN, TX          43\n",
       "Name: count, dtype: int64"
      ]
     },
     "execution_count": 19,
     "metadata": {},
     "output_type": "execute_result"
    }
   ],
   "source": [
    "df[\"CITYST\"].value_counts().head(5)"
   ]
  },
  {
   "cell_type": "markdown",
   "metadata": {},
   "source": [
    "Because CITYST contains a city name and the state, we have to extract the state first to answer the question"
   ]
  },
  {
   "cell_type": "code",
   "execution_count": 20,
   "metadata": {},
   "outputs": [],
   "source": [
    "df[\"ST\"] = df[\"CITYST\"].str.split(\", \", expand=True)[1]"
   ]
  },
  {
   "cell_type": "code",
   "execution_count": 23,
   "metadata": {},
   "outputs": [],
   "source": [
    "df[\"ST\"] = df[\"CITYST\"].str.slice(-2, None)"
   ]
  },
  {
   "cell_type": "code",
   "execution_count": 24,
   "metadata": {},
   "outputs": [
    {
     "data": {
      "text/html": [
       "<div>\n",
       "<style scoped>\n",
       "    .dataframe tbody tr th:only-of-type {\n",
       "        vertical-align: middle;\n",
       "    }\n",
       "\n",
       "    .dataframe tbody tr th {\n",
       "        vertical-align: top;\n",
       "    }\n",
       "\n",
       "    .dataframe thead th {\n",
       "        text-align: right;\n",
       "    }\n",
       "</style>\n",
       "<table border=\"1\" class=\"dataframe\">\n",
       "  <thead>\n",
       "    <tr style=\"text-align: right;\">\n",
       "      <th></th>\n",
       "      <th>CERT</th>\n",
       "      <th>CHCLASS1</th>\n",
       "      <th>CITYST</th>\n",
       "      <th>COST</th>\n",
       "      <th>FAILDATE</th>\n",
       "      <th>FIN</th>\n",
       "      <th>ID</th>\n",
       "      <th>NAME</th>\n",
       "      <th>QBFASSET</th>\n",
       "      <th>QBFDEP</th>\n",
       "      <th>RESTYPE</th>\n",
       "      <th>RESTYPE1</th>\n",
       "      <th>SAVR</th>\n",
       "      <th>ST</th>\n",
       "    </tr>\n",
       "  </thead>\n",
       "  <tbody>\n",
       "    <tr>\n",
       "      <th>0</th>\n",
       "      <td>8758.0</td>\n",
       "      <td>NM</td>\n",
       "      <td>SAC CITY, IA</td>\n",
       "      <td>14804.0</td>\n",
       "      <td>2023-11-03</td>\n",
       "      <td>10545</td>\n",
       "      <td>4109</td>\n",
       "      <td>CITIZENS BANK</td>\n",
       "      <td>60448.0</td>\n",
       "      <td>52311.0</td>\n",
       "      <td>FAILURE</td>\n",
       "      <td>PA</td>\n",
       "      <td>DIF</td>\n",
       "      <td>IA</td>\n",
       "    </tr>\n",
       "    <tr>\n",
       "      <th>1</th>\n",
       "      <td>25851.0</td>\n",
       "      <td>SM</td>\n",
       "      <td>ELKHART, KS</td>\n",
       "      <td>54167.0</td>\n",
       "      <td>2023-07-28</td>\n",
       "      <td>10544</td>\n",
       "      <td>4108</td>\n",
       "      <td>HEARTLAND TRI-STATE BANK</td>\n",
       "      <td>139446.0</td>\n",
       "      <td>130110.0</td>\n",
       "      <td>FAILURE</td>\n",
       "      <td>PA</td>\n",
       "      <td>DIF</td>\n",
       "      <td>KS</td>\n",
       "    </tr>\n",
       "    <tr>\n",
       "      <th>2</th>\n",
       "      <td>59017.0</td>\n",
       "      <td>NM</td>\n",
       "      <td>SAN FRANCISCO, CA</td>\n",
       "      <td>16521935.0</td>\n",
       "      <td>2023-05-01</td>\n",
       "      <td>10543</td>\n",
       "      <td>4107</td>\n",
       "      <td>FIRST REPUBLIC BANK</td>\n",
       "      <td>212638872.0</td>\n",
       "      <td>176436706.0</td>\n",
       "      <td>FAILURE</td>\n",
       "      <td>PA</td>\n",
       "      <td>DIF</td>\n",
       "      <td>CA</td>\n",
       "    </tr>\n",
       "    <tr>\n",
       "      <th>3</th>\n",
       "      <td>57053.0</td>\n",
       "      <td>NM</td>\n",
       "      <td>NEW YORK, NY</td>\n",
       "      <td>884248.0</td>\n",
       "      <td>2023-03-12</td>\n",
       "      <td>10540</td>\n",
       "      <td>4106</td>\n",
       "      <td>SIGNATURE BANK</td>\n",
       "      <td>110363650.0</td>\n",
       "      <td>88612911.0</td>\n",
       "      <td>FAILURE</td>\n",
       "      <td>PA</td>\n",
       "      <td>DIF</td>\n",
       "      <td>NY</td>\n",
       "    </tr>\n",
       "    <tr>\n",
       "      <th>4</th>\n",
       "      <td>24735.0</td>\n",
       "      <td>SM</td>\n",
       "      <td>SANTA CLARA, CA</td>\n",
       "      <td>17820026.0</td>\n",
       "      <td>2023-03-07</td>\n",
       "      <td>10539</td>\n",
       "      <td>4105</td>\n",
       "      <td>SILICON VALLEY BANK</td>\n",
       "      <td>209026000.0</td>\n",
       "      <td>175378000.0</td>\n",
       "      <td>FAILURE</td>\n",
       "      <td>PA</td>\n",
       "      <td>DIF</td>\n",
       "      <td>CA</td>\n",
       "    </tr>\n",
       "  </tbody>\n",
       "</table>\n",
       "</div>"
      ],
      "text/plain": [
       "      CERT CHCLASS1             CITYST        COST   FAILDATE    FIN    ID  \\\n",
       "0   8758.0       NM       SAC CITY, IA     14804.0 2023-11-03  10545  4109   \n",
       "1  25851.0       SM        ELKHART, KS     54167.0 2023-07-28  10544  4108   \n",
       "2  59017.0       NM  SAN FRANCISCO, CA  16521935.0 2023-05-01  10543  4107   \n",
       "3  57053.0       NM       NEW YORK, NY    884248.0 2023-03-12  10540  4106   \n",
       "4  24735.0       SM    SANTA CLARA, CA  17820026.0 2023-03-07  10539  4105   \n",
       "\n",
       "                       NAME     QBFASSET       QBFDEP  RESTYPE RESTYPE1 SAVR  \\\n",
       "0             CITIZENS BANK      60448.0      52311.0  FAILURE       PA  DIF   \n",
       "1  HEARTLAND TRI-STATE BANK     139446.0     130110.0  FAILURE       PA  DIF   \n",
       "2       FIRST REPUBLIC BANK  212638872.0  176436706.0  FAILURE       PA  DIF   \n",
       "3            SIGNATURE BANK  110363650.0   88612911.0  FAILURE       PA  DIF   \n",
       "4       SILICON VALLEY BANK  209026000.0  175378000.0  FAILURE       PA  DIF   \n",
       "\n",
       "   ST  \n",
       "0  IA  \n",
       "1  KS  \n",
       "2  CA  \n",
       "3  NY  \n",
       "4  CA  "
      ]
     },
     "execution_count": 24,
     "metadata": {},
     "output_type": "execute_result"
    }
   ],
   "source": [
    "df.head()"
   ]
  },
  {
   "cell_type": "code",
   "execution_count": 25,
   "metadata": {},
   "outputs": [
    {
     "data": {
      "text/plain": [
       "ST\n",
       "TX    910\n",
       "CA    265\n",
       "IL    227\n",
       "FL    199\n",
       "OK    182\n",
       "Name: count, dtype: int64"
      ]
     },
     "execution_count": 25,
     "metadata": {},
     "output_type": "execute_result"
    }
   ],
   "source": [
    "df[\"ST\"].value_counts().head(5) "
   ]
  }
 ],
 "metadata": {
  "kernelspec": {
   "display_name": "base",
   "language": "python",
   "name": "python3"
  },
  "language_info": {
   "codemirror_mode": {
    "name": "ipython",
    "version": 3
   },
   "file_extension": ".py",
   "mimetype": "text/x-python",
   "name": "python",
   "nbconvert_exporter": "python",
   "pygments_lexer": "ipython3",
   "version": "3.10.9"
  }
 },
 "nbformat": 4,
 "nbformat_minor": 2
}
